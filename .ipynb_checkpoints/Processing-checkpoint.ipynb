{
 "cells": [
  {
   "cell_type": "markdown",
   "id": "5a9370a2",
   "metadata": {},
   "source": [
    "# <span style='color:red'>Processing</style>"
   ]
  },
  {
   "cell_type": "markdown",
   "id": "8de68229",
   "metadata": {},
   "source": [
    "Scripts"
   ]
  },
  {
   "cell_type": "code",
   "execution_count": 1,
   "id": "2fd220e4",
   "metadata": {},
   "outputs": [],
   "source": [
    "%run Functions_And_Driver.py"
   ]
  },
  {
   "cell_type": "code",
   "execution_count": 2,
   "id": "57f35a1a",
   "metadata": {},
   "outputs": [
    {
     "data": {
      "text/plain": [
       "<module 'Functions_And_Driver' from 'C:\\\\Users\\\\Sleepwalk\\\\%Zain\\\\Webcrawl\\\\Functions_And_Driver.py'>"
      ]
     },
     "execution_count": 2,
     "metadata": {},
     "output_type": "execute_result"
    }
   ],
   "source": [
    "import importlib\n",
    "import Functions_And_Driver\n",
    "\n",
    "importlib.reload(Functions_And_Driver)"
   ]
  },
  {
   "cell_type": "code",
   "execution_count": 3,
   "id": "a5d25a04",
   "metadata": {},
   "outputs": [],
   "source": [
    "%run Xcite_functions.py"
   ]
  },
  {
   "cell_type": "code",
   "execution_count": 4,
   "id": "31fd4eb1",
   "metadata": {},
   "outputs": [],
   "source": [
    "%run Blink_functions.py"
   ]
  },
  {
   "cell_type": "markdown",
   "id": "da79af60",
   "metadata": {},
   "source": [
    "Metadata"
   ]
  },
  {
   "cell_type": "code",
   "execution_count": 5,
   "id": "6d4310c5",
   "metadata": {},
   "outputs": [],
   "source": [
    "#### Metadata \n",
    "\n",
    "# (Shop URLs)\n",
    "\n",
    "Xcite_URL = \"https://www.xcite.com/\"    # Good\n",
    "Blink_URL = \"https://www.blink.com.kw/\" # Good\n",
    "BestK_URL = \"https://best.com.kw/en/\"   # WIP\n",
    "\n",
    "\n",
    "# Condition lists\n",
    "\n",
    "zain_shop_condition_list = [\n",
    "    'Airpod', 'Mac', 'iPad', 'iPhone', 'Network', 'iPod', 'Software', 'PC', 'Speakers', 'Power', 'Mobile', 'Phone', 'Smartphones', 'Apple', 'Samsung', 'Nokia', 'Internet', 'Huawei', 'Nokia', 'Netgear', 'Avxav', 'Laptops',\n",
    "    'Microsoft', 'Tablets', 'Wearables', 'Beats', 'Audio', 'Headsets', 'Gaming', 'Sony', 'Nintendo', 'Smart TV',\n",
    "    'LG', 'TCL', 'TV', 'OLLZ', 'Pukka', 'Power Banks', 'Cables', 'Magsafe', 'Cover', 'Cases',\n",
    "    'Chargers', 'AirTag', 'Grips', 'Handles', 'Audio', 'Screen Protectors', 'Car Accessories', 'Smart Home',\n",
    "    'TP link', 'D-link', 'Cards', 'Amazon', 'Playstation', 'Xbox', 'PUBG', 'Blizzard', 'Roblox'\n",
    "]"
   ]
  },
  {
   "cell_type": "markdown",
   "id": "f57af02f",
   "metadata": {},
   "source": [
    "### Xcite Crawl"
   ]
  },
  {
   "cell_type": "code",
   "execution_count": null,
   "id": "b7d1e3fc",
   "metadata": {},
   "outputs": [],
   "source": [
    "# Xcite full page crawl [HTML list]\n",
    "\n",
    "# Menu items\n",
    "Xcite_category_list = [\n",
    "    'Computers & Tablets',\n",
    "    'Phones & Personal Audio',\n",
    "    'Gift Cards',\n",
    "    'TVs, Home Theaters & Projectors',\n",
    "    'Gaming'\n",
    "]\n",
    "\n",
    "Xcite_links = Xcite_menu_crawl(Xcite_URL, Xcite_category_list, 'svg')\n",
    "Xcite_links = [f'https://www.xcite.com/{link}' for link in Xcite_links]\n",
    "\n",
    "# Xcite links filtered by zain condition list\n",
    "\n",
    "Xcite_links_filtered = list(set(filter_devices(Xcite_links, zain_shop_condition_list)))"
   ]
  },
  {
   "cell_type": "code",
   "execution_count": null,
   "id": "f4a389ae",
   "metadata": {},
   "outputs": [],
   "source": [
    "# Cemetary and product catalog creation <BIG PC LOAD - RUN ONLY WHEN NECESSARY>\n",
    "\n",
    "# Xcite cemetary creation\n",
    "Xcite_cemetary = Xcite_link_crawl(Xcite_links_filtered)"
   ]
  },
  {
   "cell_type": "code",
   "execution_count": null,
   "id": "39e147b9",
   "metadata": {},
   "outputs": [],
   "source": [
    "# Xcite product catalog [filtered on a lot of fields so-as to be applicable]\n",
    "Xcite_product_dictionary = Xcite_cemetary_product_parse(Xcite_cemetary)"
   ]
  },
  {
   "cell_type": "code",
   "execution_count": null,
   "id": "1dcae906",
   "metadata": {},
   "outputs": [],
   "source": [
    "# Instantiation into DataFrame\n",
    "\n",
    "Xcite_product_df = pd.DataFrame.from_dict(Xcite_product_dictionary, orient='index').reset_index()\n",
    "Xcite_product_df.columns = ['product_name'] + Xcite_product_df.columns.to_list()[1:]"
   ]
  },
  {
   "cell_type": "code",
   "execution_count": null,
   "id": "71784634",
   "metadata": {},
   "outputs": [],
   "source": [
    "# Export to excel\n",
    "\n",
    "Xcite_product_df.to_excel(\"Xcite_product_catalog.xlsx\", index=True)"
   ]
  },
  {
   "cell_type": "markdown",
   "id": "3f58970a",
   "metadata": {},
   "source": [
    "### Blink Crawl"
   ]
  },
  {
   "cell_type": "code",
   "execution_count": null,
   "id": "963eefca",
   "metadata": {},
   "outputs": [],
   "source": [
    "# Menu items\n",
    "Blink_category_list = [\n",
    "    'Apple Products',\n",
    "    'Mobile & Accessories',\n",
    "    'Gift Cards',\n",
    "    'Computers & Tablets',\n",
    "    'Electronics',\n",
    "    'Gaming PC',\n",
    "    'Gaming Console'\n",
    "]\n",
    "\n",
    "\n",
    "Blink_category_list_link = [\n",
    "    'apple-products',\n",
    "    'mobile-accessories',\n",
    "    'digital-cards',\n",
    "    'computers',\n",
    "    'home-electronics',\n",
    "    'gaming-pc',\n",
    "    'gaming-console'\n",
    "]\n",
    "\n",
    "Blink_links = blink_menu_crawl(Blink_URL, Blink_category_list)\n",
    "\n",
    "# Blink links filtered by zain condition list and blink condition list\n",
    "\n",
    "#Blink_links_filtered = list(set(filter_devices(filter_blink(Blink_links,Blink_category_list_link),zain_shop_condition_list)))\n",
    "\n",
    "# Blink links filtered by blink condition list\n",
    "Blink_links_filtered = list(set(filter_blink(Blink_links,Blink_category_list_link)))"
   ]
  },
  {
   "cell_type": "code",
   "execution_count": null,
   "id": "f314ba9c",
   "metadata": {
    "scrolled": true
   },
   "outputs": [],
   "source": [
    "# Cemetary and product catalog creation <BIG PC LOAD - RUN ONLY WHEN NECESSARY>\n",
    "\n",
    "Blink_cemetary = blink_link_crawl(Blink_links_filtered)"
   ]
  },
  {
   "cell_type": "code",
   "execution_count": null,
   "id": "58144326",
   "metadata": {},
   "outputs": [],
   "source": [
    "# Blink product catalog [filtered on a lot of fields so-as to be applicable]\n",
    "\n",
    "Blink_product_dictionary = blink_cemetary_product_parse(Blink_cemetary)"
   ]
  },
  {
   "cell_type": "code",
   "execution_count": null,
   "id": "2ff38170",
   "metadata": {},
   "outputs": [],
   "source": [
    "# Instantiation into DataFrame\n",
    "\n",
    "Blink_product_df = pd.DataFrame.from_dict(Blink_product_dictionary, orient='index').reset_index()\n",
    "Blink_product_df.columns = ['product_name'] + Blink_product_df.columns.to_list()[1:]"
   ]
  },
  {
   "cell_type": "code",
   "execution_count": null,
   "id": "da4f494c",
   "metadata": {},
   "outputs": [],
   "source": [
    "# Export to excel\n",
    "\n",
    "Blink_product_df.to_excel(\"Blink_product_catalog.xlsx\", index=True)"
   ]
  },
  {
   "cell_type": "markdown",
   "id": "8c8b0caa",
   "metadata": {},
   "source": [
    "### Best Crawl"
   ]
  },
  {
   "cell_type": "code",
   "execution_count": null,
   "id": "6fe6773a",
   "metadata": {},
   "outputs": [],
   "source": [
    "# Best full page crawl [HTML list]\n",
    "BestK_HTML_list_dynamic = HTML_grab_links_dynamic(BestK_URL)\n",
    "BestK_HTML_list_dynamic = [f\"https://best.com.kw{link_potential}\" if 'https' not in link_potential else link_potential for link_potential in BestK_HTML_list_dynamic]\n",
    "BestK_HTML_list_dynamic = list(set(filter_if_in(BestK_HTML_list_dynamic, '/c/')))"
   ]
  },
  {
   "cell_type": "code",
   "execution_count": null,
   "id": "a5271858",
   "metadata": {},
   "outputs": [],
   "source": [
    "# Zain full page crawl [HTML list]"
   ]
  },
  {
   "cell_type": "markdown",
   "id": "a1befbe1",
   "metadata": {},
   "source": [
    "# <span style='color:red'>R&D</span>"
   ]
  },
  {
   "cell_type": "raw",
   "id": "a1da0298",
   "metadata": {},
   "source": [
    "Uncheck this:\n",
    "    <span data-ng-bind=\"filter.FilterLabel\" class=\"noSwipe\">Exclude sold-out</span>"
   ]
  },
  {
   "cell_type": "raw",
   "id": "80e59586",
   "metadata": {},
   "source": [
    "product_name\n",
    "<span class=\"item_name noSwipe\" data-ng-if=\"product.Catalog.length<=1\" data-ng-bind-html=\"SkipValidation(product.SelectedCatalog.ProductName)\">Apple Watch Series 6, 44mm, Blue Aluminum Case, Deep Navy Sport Band (GPS), M00J3</span>\n",
    "\n",
    "product_brand\n",
    "--> Parse\n",
    "    \n",
    "product_price\n",
    "<span class=\"newprice alignright bluetext\" data-ng-bind=\"(product.SelectedCatalog.ProductDiscountPrice) + (' KWD')\">84.9 KWD</span>\n",
    "    \n",
    "product_discount\n",
    "--> Calculated\n",
    "    \n",
    "price_before_discount\n",
    "<span data-ng-bind=\"(product.SelectedCatalog.ProductPrice) + (' KWD')\">156 KWD</span>\n",
    "    \n",
    "in_out_stock\n",
    "BINARY:\n",
    "if:\n",
    "    <a data-ng-click=\"AddToCart(product.SelectedCatalog,'KWD');\" href=\"\" class=\"btnorange\">Add to Cart</a>\n",
    "then:\n",
    "    In Stock\n",
    "if:\n",
    "    <span data-ng-if=\"product.SelectedCatalog.SkuID != 479075 &amp;&amp; product.SelectedCatalog.SkuID != 479076\" class=\"outofstock fontbold redcolor alignright\">Sold Out</span>\n",
    "then:\n",
    "    Out of Stock\n",
    "    \n",
    "product_link\n",
    "<a data-ng-attr-title=\"{{product.SelectedCatalog.ProductName}}\" data-ng-href=\"https://www.blink.com.kw/en/Apple-Watch-Series-6-44mm-Blue-Aluminum-Case-with-Deep-Navy-Sport-Band--GPS-\" title=\"Apple Watch Series 6, 44mm, Blue Aluminum Case, Deep Navy Sport Band (GPS), M00J3\" href=\"https://www.blink.com.kw/en/Apple-Watch-Series-6-44mm-Blue-Aluminum-Case-with-Deep-Navy-Sport-Band--GPS-\">\n",
    "    \n",
    "product_image\n",
    "<img src=\"https://blobstorage.azureedge.net/wbimages//Products//522793\\ThumbnailImage\\48.jpg\" data-ng-src=\"https://blobstorage.azureedge.net/wbimages//Products//522793\\ThumbnailImage\\48.jpg\" data-on-error-src=\"https://blobstorage.azureedge.net/wbimages//Products//noimage/noimage.jpeg\" alt=\"Apple Watch Series 6, 44mm, Blue Aluminum Case, Deep Navy Sport Band (GPS), M00J3\" data-ng-alt=\"Apple Watch Series 6, 44mm, Blue Aluminum Case, Deep Navy Sport Band (GPS), M00J3\">\n",
    "    "
   ]
  },
  {
   "cell_type": "raw",
   "id": "62aecc9c",
   "metadata": {},
   "source": [
    "Click to progress:\n",
    "<a data-ng-click=\"setPage(pager.currentPage + 1)\">Next</a>"
   ]
  },
  {
   "cell_type": "code",
   "execution_count": null,
   "id": "c236d22b",
   "metadata": {},
   "outputs": [],
   "source": [
    "' '.join(['a'])"
   ]
  }
 ],
 "metadata": {
  "kernelspec": {
   "display_name": "Python 3 (ipykernel)",
   "language": "python",
   "name": "python3"
  },
  "language_info": {
   "codemirror_mode": {
    "name": "ipython",
    "version": 3
   },
   "file_extension": ".py",
   "mimetype": "text/x-python",
   "name": "python",
   "nbconvert_exporter": "python",
   "pygments_lexer": "ipython3",
   "version": "3.10.9"
  }
 },
 "nbformat": 4,
 "nbformat_minor": 5
}
