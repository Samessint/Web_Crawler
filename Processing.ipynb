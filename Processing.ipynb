{
 "cells": [
  {
   "cell_type": "markdown",
   "id": "85fe6d89",
   "metadata": {},
   "source": [
    "# Crawl Format"
   ]
  },
  {
   "cell_type": "markdown",
   "id": "27fd7e06",
   "metadata": {},
   "source": [
    "#1 Menu links\n",
    "\n",
    "\n",
    "#2 Cemetary creation <BIG PC LOAD - RUN ONLY WHEN NECESSARY>\n",
    "    \n",
    "#2 Timestamp\n",
    "* date_scraped = date.today().strftime(\"%Y/%m/%d\")\n",
    "\n",
    "\n",
    "#3 Product catalog\n",
    "\n",
    "\n",
    "#4 Instantiation into DataFrame\n",
    "\n",
    "\n",
    "#5 Timestamp dataframe\n",
    "\n",
    "\n",
    "#6 Export to excel"
   ]
  },
  {
   "cell_type": "markdown",
   "id": "bd873bbc",
   "metadata": {},
   "source": [
    "# <span style='color:red'>Processing</style>"
   ]
  },
  {
   "cell_type": "code",
   "execution_count": 1,
   "id": "946345bd",
   "metadata": {},
   "outputs": [],
   "source": [
    "from datetime import date"
   ]
  },
  {
   "cell_type": "markdown",
   "id": "e781e8db",
   "metadata": {},
   "source": [
    "#### Scripts"
   ]
  },
  {
   "cell_type": "code",
   "execution_count": 2,
   "id": "48d816b7",
   "metadata": {},
   "outputs": [],
   "source": [
    "%run Functions_And_Driver.py"
   ]
  },
  {
   "cell_type": "code",
   "execution_count": 3,
   "id": "4ccc6495",
   "metadata": {},
   "outputs": [
    {
     "data": {
      "text/plain": [
       "<module 'Functions_And_Driver' from 'C:\\\\Users\\\\Sleepwalk\\\\%Zain\\\\Webcrawl\\\\Web_Crawler\\\\Functions_And_Driver.py'>"
      ]
     },
     "execution_count": 3,
     "metadata": {},
     "output_type": "execute_result"
    }
   ],
   "source": [
    "import importlib\n",
    "import Functions_And_Driver\n",
    "\n",
    "importlib.reload(Functions_And_Driver)"
   ]
  },
  {
   "cell_type": "code",
   "execution_count": null,
   "id": "1ef74750",
   "metadata": {},
   "outputs": [],
   "source": [
    "%run \"Scraping_Scripts\\\\Xcite_functions.py\""
   ]
  },
  {
   "cell_type": "code",
   "execution_count": null,
   "id": "732e4bcc",
   "metadata": {},
   "outputs": [],
   "source": [
    "%run \"Scraping_Scripts\\\\Blink_functions.py\""
   ]
  },
  {
   "cell_type": "code",
   "execution_count": null,
   "id": "0b8cdde1",
   "metadata": {},
   "outputs": [],
   "source": [
    "%run \"Scraping_Scripts\\\\Best_functions.py\""
   ]
  },
  {
   "cell_type": "code",
   "execution_count": null,
   "id": "b4d4ddcc",
   "metadata": {},
   "outputs": [],
   "source": [
    "%run \"Scraping_Scripts\\\\Zain_functions.py\""
   ]
  },
  {
   "cell_type": "code",
   "execution_count": null,
   "id": "3f1e86d4",
   "metadata": {},
   "outputs": [],
   "source": [
    "%run \"Scraping_Scripts\\\\Zain_Deep_Scraper.py\""
   ]
  },
  {
   "cell_type": "code",
   "execution_count": null,
   "id": "71ffda7b",
   "metadata": {},
   "outputs": [],
   "source": [
    "%run \"Scraping_Scripts\\\\Gait_functions.py\""
   ]
  },
  {
   "cell_type": "code",
   "execution_count": null,
   "id": "31883f7f",
   "metadata": {},
   "outputs": [],
   "source": [
    "%run \"Scraping_Scripts\\\\Shopi2_functions.py\""
   ]
  },
  {
   "cell_type": "code",
   "execution_count": 108,
   "id": "7d457132",
   "metadata": {},
   "outputs": [],
   "source": [
    "%run \"Scraping_Scripts\\\\Switch_functions.py\""
   ]
  },
  {
   "cell_type": "code",
   "execution_count": null,
   "id": "a9ca2b8e",
   "metadata": {},
   "outputs": [],
   "source": [
    "%run \"Scraping_Scripts\\\\Ooredoo_functions.py\""
   ]
  },
  {
   "cell_type": "code",
   "execution_count": null,
   "id": "550e2cb9",
   "metadata": {},
   "outputs": [],
   "source": [
    "%run \"Scraping_Scripts\\\\Stc_functions.py\""
   ]
  },
  {
   "cell_type": "markdown",
   "id": "70c6ff15",
   "metadata": {},
   "source": [
    "#### Metadata"
   ]
  },
  {
   "cell_type": "code",
   "execution_count": 6,
   "id": "977d26d2",
   "metadata": {},
   "outputs": [],
   "source": [
    "#### Metadata \n",
    "\n",
    "# (Shop URLs)\n",
    "\n",
    "Xcite_URL  = \"https://www.xcite.com/\"          # Good\n",
    "Blink_URL  = \"https://www.blink.com.kw/\"       # Good\n",
    "BestK_URL  = \"https://best.com.kw/en/\"         # Good\n",
    "ZainS_URL  = \"https://www.kw.zain.com/en/shop\" # Enhancing\n",
    "GaitS_URL  = \"https://gait.com.kw/g_kw_en\"     # Good\n",
    "i2_URL     = \"https://shopi2.com.kw/\"          # Good\n",
    "Switch_URL = \"https://switch.com.kw/en/\"       # Good\n",
    "Ooredoo_URL= \"https://www.ooredoo.com.kw/\"     # \n",
    "Stc_URL    = \"https://www.stc.com.kw/en/\"      #\n",
    "\n",
    "# Condition lists\n",
    "\n",
    "zain_shop_condition_list = [\n",
    "    'Television', 'Monitor', 'ITaccessories', 'Smart', 'Entertainment', 'Airpod', 'Mac', 'iPad', 'iPhone', 'Network', \n",
    "    'iPod', 'Software', 'PC', 'Speakers', 'Power', 'Mobile', 'Phone', 'Smartphones', 'Apple', 'Samsung', 'Nokia', 'Internet', \n",
    "    'Huawei', 'Nokia', 'Netgear', 'Avxav', 'Laptops',\n",
    "    'Microsoft', 'Tablets', 'Wearables', 'Beats', 'Audio', 'Headsets', 'Gaming', 'Sony', 'Nintendo', 'Smart TV',\n",
    "    'LG', 'TCL', 'TV', 'OLLZ', 'Pukka', 'Power Banks', 'Cables', 'Magsafe', 'Cover', 'Cases',\n",
    "    'Chargers', 'AirTag', 'Grips', 'Handles', 'Audio', 'Screen Protectors', 'Car Accessories', 'Smart Home',\n",
    "    'TP link', 'D-link', 'Cards', 'Amazon', 'Playstation', 'Xbox', 'PUBG', 'Blizzard', 'Roblox'\n",
    "]"
   ]
  },
  {
   "cell_type": "markdown",
   "id": "b3be4d6d",
   "metadata": {},
   "source": [
    "### Xcite Crawl"
   ]
  },
  {
   "cell_type": "code",
   "execution_count": null,
   "id": "d0c21bfb",
   "metadata": {},
   "outputs": [],
   "source": [
    "# Menu links\n",
    "\n",
    "Xcite_category_list = [\n",
    "    'Computers & Tablets',\n",
    "    'Phones & Personal Audio',\n",
    "    'Gift Cards',\n",
    "    'TVs, Home Theaters & Projectors',\n",
    "    'Gaming'\n",
    "]\n",
    "\n",
    "Xcite_links = Xcite_menu_crawl(Xcite_URL, Xcite_category_list)"
   ]
  },
  {
   "cell_type": "code",
   "execution_count": null,
   "id": "97afb8fd",
   "metadata": {
    "scrolled": true
   },
   "outputs": [],
   "source": [
    "# Cemetary creation <BIG PC LOAD - RUN ONLY WHEN NECESSARY>\n",
    "\n",
    "# Timestamp\n",
    "date_scraped = date.today().strftime(\"%Y/%m/%d\")\n",
    "\n",
    "# Xcite cemetary creation\n",
    "Xcite_cemetary = Xcite_link_crawl(Xcite_links)"
   ]
  },
  {
   "cell_type": "code",
   "execution_count": null,
   "id": "383e90f5",
   "metadata": {},
   "outputs": [],
   "source": [
    "# Xcite product catalog\n",
    "Xcite_product_dictionary = Xcite_cemetary_product_parse(Xcite_cemetary)"
   ]
  },
  {
   "cell_type": "code",
   "execution_count": null,
   "id": "f7d3b7f1",
   "metadata": {},
   "outputs": [],
   "source": [
    "# Instantiation into DataFrame\n",
    "\n",
    "Xcite_product_df = pd.DataFrame.from_dict(Xcite_product_dictionary, orient='index').reset_index()\n",
    "Xcite_product_df.columns = ['product_name'] + Xcite_product_df.columns.to_list()[1:]"
   ]
  },
  {
   "cell_type": "code",
   "execution_count": null,
   "id": "813bdb8e",
   "metadata": {},
   "outputs": [],
   "source": [
    "# Timestamp dataframe\n",
    "\n",
    "Xcite_product_df['date_scraped'] = date_scraped"
   ]
  },
  {
   "cell_type": "code",
   "execution_count": null,
   "id": "ab5be2b6",
   "metadata": {},
   "outputs": [],
   "source": [
    "# Export to excel\n",
    "\n",
    "Xcite_product_df.to_excel(f\"Product_Catalog_Outputs\\Xcite_product_catalog_{date.today().strftime('%Y_%m_%d')}.xlsx\", index=True)"
   ]
  },
  {
   "cell_type": "markdown",
   "id": "61f4087a",
   "metadata": {},
   "source": [
    "### Blink Crawl"
   ]
  },
  {
   "cell_type": "code",
   "execution_count": null,
   "id": "584f5c10",
   "metadata": {},
   "outputs": [],
   "source": [
    "# Menu links\n",
    "\n",
    "Blink_category_list = [\n",
    "    'Apple Products',\n",
    "    'Mobile & Accessories',\n",
    "    'Gift Cards',\n",
    "    'Computers & Tablets',\n",
    "    'Electronics',\n",
    "    'Gaming PC',\n",
    "    'Gaming Console'\n",
    "]\n",
    "\n",
    "\n",
    "Blink_category_list_link = [\n",
    "    'apple-products',\n",
    "    'mobile-accessories',\n",
    "    'digital-cards',\n",
    "    'computers',\n",
    "    'home-electronics',\n",
    "    'gaming-pc',\n",
    "    'gaming-console'\n",
    "]\n",
    "\n",
    "Blink_links = blink_menu_crawl(Blink_URL, Blink_category_list)\n",
    "\n",
    "# Blink links filtered by blink condition list\n",
    "Blink_links_filtered = list(set(filter_blink(Blink_links,Blink_category_list_link)))"
   ]
  },
  {
   "cell_type": "code",
   "execution_count": null,
   "id": "9e6ce129",
   "metadata": {
    "scrolled": true
   },
   "outputs": [],
   "source": [
    "# Cemetary creation <BIG PC LOAD - RUN ONLY WHEN NECESSARY>\n",
    "\n",
    "# Timestamp\n",
    "date_scraped = date.today().strftime(\"%Y/%m/%d\")\n",
    "\n",
    "Blink_cemetary = blink_link_crawl(Blink_links_filtered)"
   ]
  },
  {
   "cell_type": "code",
   "execution_count": null,
   "id": "c35d167b",
   "metadata": {},
   "outputs": [],
   "source": [
    "# Blink product catalog\n",
    "\n",
    "Blink_product_dictionary = blink_cemetary_product_parse(Blink_cemetary)"
   ]
  },
  {
   "cell_type": "code",
   "execution_count": null,
   "id": "64741eb8",
   "metadata": {},
   "outputs": [],
   "source": [
    "# Instantiation into DataFrame\n",
    "\n",
    "Blink_product_df = pd.DataFrame.from_dict(Blink_product_dictionary, orient='index').reset_index()\n",
    "Blink_product_df.columns = ['product_name'] + Blink_product_df.columns.to_list()[1:]"
   ]
  },
  {
   "cell_type": "code",
   "execution_count": null,
   "id": "26b7a012",
   "metadata": {},
   "outputs": [],
   "source": [
    "# Timestamp dataframe\n",
    "\n",
    "Blink_product_df['date_scraped'] = date_scraped"
   ]
  },
  {
   "cell_type": "code",
   "execution_count": null,
   "id": "078a23ba",
   "metadata": {},
   "outputs": [],
   "source": [
    "# Export to excel\n",
    "\n",
    "Blink_product_df.to_excel(f\"Product_Catalog_Outputs\\Blink_product_catalog_{date.today().strftime('%Y_%m_%d')}.xlsx\", index=True)"
   ]
  },
  {
   "cell_type": "markdown",
   "id": "4f097162",
   "metadata": {},
   "source": [
    "### Best Crawl"
   ]
  },
  {
   "cell_type": "code",
   "execution_count": null,
   "id": "8e4ae678",
   "metadata": {},
   "outputs": [],
   "source": [
    "# Menu links\n",
    "\n",
    "Best_category_list = [\n",
    "    'Panasonic Store',\n",
    "    'Home Entertainment',\n",
    "    'Mobiles',\n",
    "    'Gaming',\n",
    "    'Computers And Tablets',\n",
    "    'Perfume & Watches'\n",
    "]\n",
    "\n",
    "Best_links = best_menu_crawl(BestK_URL, Best_category_list)\n",
    "\n",
    "# Best_links preprocessing\n",
    "for index, HREF in enumerate(Best_links):\n",
    "    if HREF[0] == \"/\":\n",
    "        Best_links[index] = f\"https://best.com.kw/en{Best_links[index]}\"\n",
    "    else:\n",
    "        Best_links[index] = f\"https://best.com.kw/en/{Best_links[index]}\"\n",
    "\n",
    "# Best links filtered by Zain condition list\n",
    "\n",
    "Best_links_filtered = list(set(fd.filter_devices(Best_links, zain_shop_condition_list)))"
   ]
  },
  {
   "cell_type": "code",
   "execution_count": null,
   "id": "4668d2b3",
   "metadata": {},
   "outputs": [],
   "source": [
    "# Cemetary creation <BIG PC LOAD - RUN ONLY WHEN NECESSARY>\n",
    "\n",
    "# Timestamp\n",
    "date_scraped = date.today().strftime(\"%Y/%m/%d\")\n",
    "\n",
    "Best_cemetary = best_link_crawl(Best_links_filtered)"
   ]
  },
  {
   "cell_type": "code",
   "execution_count": null,
   "id": "c9f2da22",
   "metadata": {},
   "outputs": [],
   "source": [
    "# Blink product catalog\n",
    "\n",
    "Best_product_dictionary = best_cemetary_product_parse(Best_cemetary)"
   ]
  },
  {
   "cell_type": "code",
   "execution_count": null,
   "id": "82716963",
   "metadata": {},
   "outputs": [],
   "source": [
    "# Instantiation into DataFrame\n",
    "\n",
    "Best_product_df = pd.DataFrame.from_dict(Best_product_dictionary, orient='index').reset_index()\n",
    "Best_product_df.columns = ['product_name'] + Best_product_df.columns.to_list()[1:]"
   ]
  },
  {
   "cell_type": "code",
   "execution_count": null,
   "id": "1ddfc043",
   "metadata": {},
   "outputs": [],
   "source": [
    "# Timestamp dataframe\n",
    "\n",
    "Best_product_df['date_scraped'] = date_scraped"
   ]
  },
  {
   "cell_type": "code",
   "execution_count": null,
   "id": "68b9f261",
   "metadata": {},
   "outputs": [],
   "source": [
    "# Export to excel\n",
    "\n",
    "Best_product_df.to_excel(f\"Product_Catalog_Outputs\\Best_product_catalog_{date.today().strftime('%Y_%m_%d')}.xlsx\", index=True)"
   ]
  },
  {
   "cell_type": "markdown",
   "id": "e6bd0889",
   "metadata": {},
   "source": [
    "### Zain Crawl"
   ]
  },
  {
   "cell_type": "code",
   "execution_count": null,
   "id": "afebcf36",
   "metadata": {},
   "outputs": [],
   "source": [
    "# Menu links\n",
    "\n",
    "Zain_links = zain_menu_crawl(ZainS_URL)\n",
    "\n",
    "# Manually include e-cards\n",
    "\n",
    "Zain_links.append(\"https://www.kw.zain.com/en/shop/e-cards\")"
   ]
  },
  {
   "cell_type": "code",
   "execution_count": null,
   "id": "b31ed678",
   "metadata": {},
   "outputs": [],
   "source": [
    "# Cemetary creation <BIG PC LOAD - RUN ONLY WHEN NECESSARY>\n",
    "\n",
    "# Timestamp\n",
    "date_scraped = date.today().strftime(\"%Y/%m/%d\")\n",
    "\n",
    "Zain_cemetary = Zain_link_crawl(Zain_links)"
   ]
  },
  {
   "cell_type": "code",
   "execution_count": null,
   "id": "483b21f1",
   "metadata": {},
   "outputs": [],
   "source": [
    "# Product catalog\n",
    "\n",
    "Zain_product_dictionary = Zain_cemetary_product_parse(Zain_cemetary)"
   ]
  },
  {
   "cell_type": "code",
   "execution_count": null,
   "id": "9dd769dd",
   "metadata": {},
   "outputs": [],
   "source": [
    "# Instantiation into DataFrame\n",
    "\n",
    "Zain_product_df = pd.DataFrame.from_dict(Zain_product_dictionary, orient='index').reset_index()\n",
    "Zain_product_df.columns = ['product_name'] + Zain_product_df.columns.to_list()[1:]"
   ]
  },
  {
   "cell_type": "code",
   "execution_count": null,
   "id": "2258cb58",
   "metadata": {},
   "outputs": [],
   "source": [
    "# Timestamp dataframe\n",
    "\n",
    "Zain_product_df['date_scraped'] = date_scraped"
   ]
  },
  {
   "cell_type": "code",
   "execution_count": null,
   "id": "44a3305e",
   "metadata": {},
   "outputs": [],
   "source": [
    "# Export to excel\n",
    "\n",
    "Zain_product_df.to_excel(f\"Product_Catalog_Outputs\\Zain_product_catalog_{date.today().strftime('%Y_%m_%d')}.xlsx\", index=True)"
   ]
  },
  {
   "cell_type": "markdown",
   "id": "7ed3b160",
   "metadata": {},
   "source": [
    "#### Zain Data Enrichment"
   ]
  },
  {
   "cell_type": "code",
   "execution_count": null,
   "id": "cb0b7c33",
   "metadata": {},
   "outputs": [],
   "source": [
    "Zain_product_links = Zain_product_df['product_link'].to_list()"
   ]
  },
  {
   "cell_type": "code",
   "execution_count": null,
   "id": "cb72070a",
   "metadata": {},
   "outputs": [],
   "source": []
  },
  {
   "cell_type": "markdown",
   "id": "753f15c9",
   "metadata": {},
   "source": [
    "### Gait Crawl"
   ]
  },
  {
   "cell_type": "code",
   "execution_count": null,
   "id": "9fdb131d",
   "metadata": {},
   "outputs": [],
   "source": [
    "# Menu links\n",
    "\n",
    "Gait_links = Gait_menu_crawl(GaitS_URL)"
   ]
  },
  {
   "cell_type": "code",
   "execution_count": null,
   "id": "6f482924",
   "metadata": {},
   "outputs": [],
   "source": [
    "# Cemetary creation <BIG PC LOAD - RUN ONLY WHEN NECESSARY>\n",
    "\n",
    "# Timestamp\n",
    "date_scraped = date.today().strftime(\"%Y/%m/%d\")\n",
    "\n",
    "Gait_cemetary = Gait_link_crawl(Gait_links)"
   ]
  },
  {
   "cell_type": "code",
   "execution_count": null,
   "id": "18bd10e9",
   "metadata": {},
   "outputs": [],
   "source": [
    "# Product catalog\n",
    "\n",
    "Gait_product_dictionary = Gait_cemetary_product_parse(Gait_cemetary)"
   ]
  },
  {
   "cell_type": "code",
   "execution_count": null,
   "id": "305d617e",
   "metadata": {},
   "outputs": [],
   "source": [
    "# Instantiation into DataFrame\n",
    "\n",
    "Gait_product_df = pd.DataFrame.from_dict(Gait_product_dictionary, orient='index').reset_index()\n",
    "Gait_product_df.columns = ['product_name'] + Gait_product_df.columns.to_list()[1:]"
   ]
  },
  {
   "cell_type": "code",
   "execution_count": null,
   "id": "773c548f",
   "metadata": {},
   "outputs": [],
   "source": [
    "# Timestamp dataframe\n",
    "\n",
    "Gait_product_df['date_scraped'] = date_scraped"
   ]
  },
  {
   "cell_type": "code",
   "execution_count": null,
   "id": "1ccb1eaf",
   "metadata": {},
   "outputs": [],
   "source": [
    "# Export to excel\n",
    "\n",
    "Gait_product_df.to_excel(f\"Product_Catalog_Outputs\\Gait_product_catalog_{date.today().strftime('%Y_%m_%d')}.xlsx\", index=True)"
   ]
  },
  {
   "cell_type": "markdown",
   "id": "95c449a7",
   "metadata": {},
   "source": [
    "### i2 Crawl"
   ]
  },
  {
   "cell_type": "code",
   "execution_count": null,
   "id": "96b35b89",
   "metadata": {},
   "outputs": [],
   "source": [
    "# Menu links\n",
    "\n",
    "i2_category_list = [\n",
    "    'SmartPhones',\n",
    "    'Laptops',\n",
    "    'Tablets',\n",
    "    'Wearables',\n",
    "    'Accessories',\n",
    "    'Audios',\n",
    "    'Clearance'\n",
    "]\n",
    "\n",
    "i2_links = i2_menu_crawl(i2_URL, i2_category_list)"
   ]
  },
  {
   "cell_type": "code",
   "execution_count": null,
   "id": "ab6e7960",
   "metadata": {},
   "outputs": [],
   "source": [
    "# Cemetary creation <BIG PC LOAD - RUN ONLY WHEN NECESSARY>\n",
    "\n",
    "# Timestamp\n",
    "date_scraped = date.today().strftime(\"%Y/%m/%d\")\n",
    "\n",
    "i2_cemetary = i2_link_crawl(i2_links)"
   ]
  },
  {
   "cell_type": "code",
   "execution_count": null,
   "id": "1f1d9df9",
   "metadata": {},
   "outputs": [],
   "source": [
    "# Product catalog\n",
    "\n",
    "i2_product_dictionary = i2_cemetary_product_parse(i2_cemetary)"
   ]
  },
  {
   "cell_type": "code",
   "execution_count": null,
   "id": "74cb2229",
   "metadata": {},
   "outputs": [],
   "source": [
    "# Instantiation into DataFrame\n",
    "\n",
    "i2_product_df = pd.DataFrame.from_dict(i2_product_dictionary, orient='index').reset_index()\n",
    "i2_product_df.columns = ['product_name'] + i2_product_df.columns.to_list()[1:]"
   ]
  },
  {
   "cell_type": "code",
   "execution_count": null,
   "id": "f2d4969a",
   "metadata": {},
   "outputs": [],
   "source": [
    "# Timestamp dataframe\n",
    "\n",
    "i2_product_df['date_scraped'] = date_scraped"
   ]
  },
  {
   "cell_type": "code",
   "execution_count": null,
   "id": "cccba97e",
   "metadata": {},
   "outputs": [],
   "source": [
    "# Export to excel\n",
    "\n",
    "i2_product_df.to_excel(f\"Product_Catalog_Outputs\\i2_product_catalog_{date.today().strftime('%Y_%m_%d')}.xlsx\", index=True)"
   ]
  },
  {
   "cell_type": "markdown",
   "id": "cb3fa8ff",
   "metadata": {},
   "source": [
    "### Switch Crawl"
   ]
  },
  {
   "cell_type": "code",
   "execution_count": 16,
   "id": "15cddde8",
   "metadata": {},
   "outputs": [],
   "source": [
    "# Menu links\n",
    "\n",
    "switch_category_list = [\n",
    "    ' Smartphones ',\n",
    "    ' Tablets ',\n",
    "    ' Wearables ',\n",
    "    ' Accessories ',\n",
    "    ' TVs and Audio ',\n",
    "    ' Gaming ',\n",
    "    ' Computers and IT '\n",
    "]\n",
    "\n",
    "switch_links = span_crawl_text(Switch_URL, switch_category_list)"
   ]
  },
  {
   "cell_type": "code",
   "execution_count": 103,
   "id": "635cbe96",
   "metadata": {},
   "outputs": [],
   "source": [
    "# Cemetary creation <BIG PC LOAD - RUN ONLY WHEN NECESSARY>\n",
    "\n",
    "# Timestamp\n",
    "date_scraped = date.today().strftime(\"%Y/%m/%d\")\n",
    "\n",
    "switch_cemetary = switch_link_crawl(switch_links)"
   ]
  },
  {
   "cell_type": "code",
   "execution_count": 109,
   "id": "39e0a854",
   "metadata": {},
   "outputs": [],
   "source": [
    "# Product catalog\n",
    "\n",
    "switch_product_dictionary = switch_cemetary_product_parse(switch_cemetary)"
   ]
  },
  {
   "cell_type": "code",
   "execution_count": 110,
   "id": "8e19d5ab",
   "metadata": {},
   "outputs": [],
   "source": [
    "# Instantiation into DataFrame\n",
    "\n",
    "switch_product_df = pd.DataFrame.from_dict(switch_product_dictionary, orient='index').reset_index()\n",
    "switch_product_df.columns = ['product_name'] + switch_product_df.columns.to_list()[1:]"
   ]
  },
  {
   "cell_type": "code",
   "execution_count": 111,
   "id": "b4a6dac2",
   "metadata": {},
   "outputs": [],
   "source": [
    "# Timestamp dataframe\n",
    "\n",
    "switch_product_df['date_scraped'] = date_scraped"
   ]
  },
  {
   "cell_type": "code",
   "execution_count": 112,
   "id": "6ddeb087",
   "metadata": {},
   "outputs": [],
   "source": [
    "# Export to excel\n",
    "\n",
    "switch_product_df.to_excel(f\"Product_Catalog_Outputs\\switch_product_catalog_{date.today().strftime('%Y_%m_%d')}.xlsx\", index=True)"
   ]
  },
  {
   "cell_type": "markdown",
   "id": "f59ce4a4",
   "metadata": {},
   "source": [
    "### Ooredoo Crawl"
   ]
  },
  {
   "cell_type": "code",
   "execution_count": null,
   "id": "04e8b0ef",
   "metadata": {},
   "outputs": [],
   "source": [
    "# Menu links\n",
    "\n",
    "ooredoo_category_list = [\n",
    "]\n",
    "\n",
    "ooredoo_links = ooredoo_menu_crawl(Ooredoo_URL, ooredoo_category_list)"
   ]
  },
  {
   "cell_type": "code",
   "execution_count": null,
   "id": "e1656a8b",
   "metadata": {},
   "outputs": [],
   "source": [
    "# Cemetary creation <BIG PC LOAD - RUN ONLY WHEN NECESSARY>\n",
    "\n",
    "# Timestamp\n",
    "date_scraped = date.today().strftime(\"%Y/%m/%d\")\n",
    "\n",
    "ooredoo_cemetary = ooredoo_link_crawl(ooredoo_links)"
   ]
  },
  {
   "cell_type": "code",
   "execution_count": null,
   "id": "9c69f1fe",
   "metadata": {},
   "outputs": [],
   "source": [
    "# Product catalog\n",
    "\n",
    "ooredoo_product_dictionary = ooredoo_cemetary_product_parse(ooredoo_cemetary)"
   ]
  },
  {
   "cell_type": "code",
   "execution_count": null,
   "id": "142eb4c8",
   "metadata": {},
   "outputs": [],
   "source": [
    "# Instantiation into DataFrame\n",
    "\n",
    "ooredoo_product_df = pd.DataFrame.from_dict(ooredoo_product_dictionary, orient='index').reset_index()\n",
    "ooredoo_product_df.columns = ['product_name'] + ooredoo_product_df.columns.to_list()[1:]"
   ]
  },
  {
   "cell_type": "code",
   "execution_count": null,
   "id": "99ada6e3",
   "metadata": {},
   "outputs": [],
   "source": [
    "# Timestamp dataframe\n",
    "\n",
    "ooredoo_product_df['date_scraped'] = date_scraped"
   ]
  },
  {
   "cell_type": "code",
   "execution_count": null,
   "id": "44c9b154",
   "metadata": {},
   "outputs": [],
   "source": [
    "# Export to excel\n",
    "\n",
    "ooredoo_product_df.to_excel(f\"Product_Catalog_Outputs\\ooredoo_product_catalog_{date.today().strftime('%Y_%m_%d')}.xlsx\", index=True)"
   ]
  },
  {
   "cell_type": "markdown",
   "id": "f8dccae1",
   "metadata": {},
   "source": [
    "### STC Crawl"
   ]
  },
  {
   "cell_type": "code",
   "execution_count": null,
   "id": "10eea2f0",
   "metadata": {},
   "outputs": [],
   "source": [
    "# Menu links\n",
    "\n",
    "stc_category_list = [\n",
    "]\n",
    "\n",
    "stc_links = stc_menu_crawl(Stc_URL, stc_category_list)"
   ]
  },
  {
   "cell_type": "code",
   "execution_count": null,
   "id": "e73977fc",
   "metadata": {},
   "outputs": [],
   "source": [
    "# Cemetary creation <BIG PC LOAD - RUN ONLY WHEN NECESSARY>\n",
    "\n",
    "# Timestamp\n",
    "date_scraped = date.today().strftime(\"%Y/%m/%d\")\n",
    "\n",
    "stc_cemetary = stc_link_crawl(stc_links)"
   ]
  },
  {
   "cell_type": "code",
   "execution_count": null,
   "id": "4a8dc149",
   "metadata": {},
   "outputs": [],
   "source": [
    "# Product catalog\n",
    "\n",
    "stc_product_dictionary = stc_cemetary_product_parse(stc_cemetary)"
   ]
  },
  {
   "cell_type": "code",
   "execution_count": null,
   "id": "7591a400",
   "metadata": {},
   "outputs": [],
   "source": [
    "# Instantiation into DataFrame\n",
    "\n",
    "stc_product_df = pd.DataFrame.from_dict(stc_product_dictionary, orient='index').reset_index()\n",
    "stc_product_df.columns = ['product_name'] + stc_product_df.columns.to_list()[1:]"
   ]
  },
  {
   "cell_type": "code",
   "execution_count": null,
   "id": "6fe6a7f5",
   "metadata": {},
   "outputs": [],
   "source": [
    "# Timestamp dataframe\n",
    "\n",
    "stc_product_df['date_scraped'] = date_scraped"
   ]
  },
  {
   "cell_type": "code",
   "execution_count": null,
   "id": "ccda3232",
   "metadata": {},
   "outputs": [],
   "source": [
    "# Export to excel\n",
    "\n",
    "stc_product_df.to_excel(f\"Product_Catalog_Outputs\\stc_product_catalog_{date.today().strftime('%Y_%m_%d')}.xlsx\", index=True)"
   ]
  },
  {
   "cell_type": "markdown",
   "id": "4b9abedb",
   "metadata": {},
   "source": [
    "# <span style='color:red'>R&D</span>"
   ]
  },
  {
   "cell_type": "markdown",
   "id": "2a6b74c0",
   "metadata": {},
   "source": [
    "zain deep crawl (data enrichment)"
   ]
  },
  {
   "cell_type": "code",
   "execution_count": null,
   "id": "26393790",
   "metadata": {},
   "outputs": [],
   "source": [
    "# Deep crawler (individual product link visits)\n",
    "\n",
    "opts = ChromeOptions()\n",
    "opts.add_argument(\"--start-maximized\")\n",
    "driver = webdriver.Chrome(ChromeDriverManager().install(), options=opts)\n",
    "\n",
    "driver.get('https://www.kw.zain.com/en/shop/galaxy-a54-')\n",
    "\n",
    "# Ensure english site\n",
    "try:\n",
    "    driver.find_element_by_xpath('//a[text()=\"العربية\"]')\n",
    "except:\n",
    "    english_site = driver.find_element_by_xpath('//a[text()=\"english\"]')\n",
    "    english_site.click()\n",
    "    time.sleep(1)\n",
    "\n",
    "# Click individual tabs\n",
    "size_row   = driver.find_element_by_xpath('//div[contains(@class, \"form-group\") and contains(@class, \"liferay-ddm-form-field-radio\") and contains(@class, \"size\")]//label[text()=\"Size\"]/ancestor::div[1]')\n",
    "label_elements = size_row.find_elements_by_xpath('.//span')\n",
    "for label in label_elements:\n",
    "    try:\n",
    "        print(label.text)\n",
    "        label.click()\n",
    "    except Exception:\n",
    "        print(Exception)\n",
    "\n",
    "color_row  = driver.find_element_by_xpath('//div[contains(@class, \"form-group\") and contains(@class, \"zain-custom-color-form-field-form-field\") and contains(@class, \"color\")]//label[starts-with(text(), \"Color\")]/ancestor::div[1]')\n",
    "\n",
    "\n",
    "cash_deals = driver.find_element_by_xpath('//label[text()=\"Cash Deals🔥\"]')\n",
    "\n",
    "html_content = driver.page_source\n",
    "\n",
    "driver.quit()\n",
    "\n",
    "list_graves = str(BeautifulSoup(html.unescape(html_content), 'html.parser'))"
   ]
  },
  {
   "cell_type": "code",
   "execution_count": null,
   "id": "ad910a2f",
   "metadata": {},
   "outputs": [],
   "source": [
    "list_graves"
   ]
  },
  {
   "cell_type": "code",
   "execution_count": null,
   "id": "7a90bd21",
   "metadata": {},
   "outputs": [],
   "source": [
    "label_list"
   ]
  },
  {
   "cell_type": "code",
   "execution_count": null,
   "id": "16c98224",
   "metadata": {},
   "outputs": [],
   "source": []
  }
 ],
 "metadata": {
  "kernelspec": {
   "display_name": "Python 3 (ipykernel)",
   "language": "python",
   "name": "python3"
  },
  "language_info": {
   "codemirror_mode": {
    "name": "ipython",
    "version": 3
   },
   "file_extension": ".py",
   "mimetype": "text/x-python",
   "name": "python",
   "nbconvert_exporter": "python",
   "pygments_lexer": "ipython3",
   "version": "3.10.9"
  }
 },
 "nbformat": 4,
 "nbformat_minor": 5
}
