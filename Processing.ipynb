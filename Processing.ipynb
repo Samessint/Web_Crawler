{
 "cells": [
  {
   "cell_type": "markdown",
   "metadata": {},
   "source": [
    "# Crawl Format"
   ]
  },
  {
   "cell_type": "markdown",
   "metadata": {},
   "source": [
    "#1 Menu links\n",
    "\n",
    "\n",
    "#2 Cemetary creation <BIG PC LOAD - RUN ONLY WHEN NECESSARY>\n",
    "    \n",
    "#2 Timestamp\n",
    "* date_scraped = date.today().strftime(\"%Y/%m/%d\")\n",
    "\n",
    "\n",
    "#3 Product catalog\n",
    "\n",
    "\n",
    "#4 Instantiation into DataFrame\n",
    "\n",
    "\n",
    "#5 Timestamp dataframe\n",
    "\n",
    "\n",
    "#6 Export to excel"
   ]
  },
  {
   "cell_type": "markdown",
   "metadata": {},
   "source": [
    "# <span style='color:red'>Processing</style>"
   ]
  },
  {
   "cell_type": "code",
   "execution_count": 2,
   "metadata": {},
   "outputs": [],
   "source": [
    "from datetime import date"
   ]
  },
  {
   "cell_type": "markdown",
   "metadata": {},
   "source": [
    "#### Scripts"
   ]
  },
  {
   "cell_type": "code",
   "execution_count": 3,
   "metadata": {},
   "outputs": [
    {
     "ename": "ImportError",
     "evalue": "this version of pandas is incompatible with numpy < 1.20.3\nyour numpy version is 1.19.2.\nPlease upgrade numpy to >= 1.20.3 to use this pandas version",
     "output_type": "error",
     "traceback": [
      "\u001b[1;31m---------------------------------------------------------------------------\u001b[0m",
      "\u001b[1;31mImportError\u001b[0m                               Traceback (most recent call last)",
      "\u001b[1;32m~\\%Projects\\Projects_local\\Web_Crawler\\Functions_And_Driver.py\u001b[0m in \u001b[0;36m<module>\u001b[1;34m\u001b[0m\n\u001b[0;32m     12\u001b[0m \u001b[1;32mimport\u001b[0m \u001b[0mtime\u001b[0m\u001b[1;33m\u001b[0m\u001b[1;33m\u001b[0m\u001b[0m\n\u001b[0;32m     13\u001b[0m \u001b[1;33m\u001b[0m\u001b[0m\n\u001b[1;32m---> 14\u001b[1;33m \u001b[1;32mimport\u001b[0m \u001b[0mpandas\u001b[0m \u001b[1;32mas\u001b[0m \u001b[0mpd\u001b[0m\u001b[1;33m\u001b[0m\u001b[1;33m\u001b[0m\u001b[0m\n\u001b[0m\u001b[0;32m     15\u001b[0m \u001b[1;33m\u001b[0m\u001b[0m\n\u001b[0;32m     16\u001b[0m \u001b[1;32mfrom\u001b[0m \u001b[0mbs4\u001b[0m \u001b[1;32mimport\u001b[0m \u001b[0mBeautifulSoup\u001b[0m\u001b[1;33m\u001b[0m\u001b[1;33m\u001b[0m\u001b[0m\n",
      "\u001b[1;32mD:\\Anaconda\\lib\\site-packages\\pandas\\__init__.py\u001b[0m in \u001b[0;36m<module>\u001b[1;34m\u001b[0m\n\u001b[0;32m     20\u001b[0m \u001b[1;33m\u001b[0m\u001b[0m\n\u001b[0;32m     21\u001b[0m \u001b[1;31m# numpy compat\u001b[0m\u001b[1;33m\u001b[0m\u001b[1;33m\u001b[0m\u001b[1;33m\u001b[0m\u001b[0m\n\u001b[1;32m---> 22\u001b[1;33m \u001b[1;32mfrom\u001b[0m \u001b[0mpandas\u001b[0m\u001b[1;33m.\u001b[0m\u001b[0mcompat\u001b[0m \u001b[1;32mimport\u001b[0m \u001b[0mis_numpy_dev\u001b[0m \u001b[1;32mas\u001b[0m \u001b[0m_is_numpy_dev\u001b[0m  \u001b[1;31m# pyright: ignore # noqa:F401\u001b[0m\u001b[1;33m\u001b[0m\u001b[1;33m\u001b[0m\u001b[0m\n\u001b[0m\u001b[0;32m     23\u001b[0m \u001b[1;33m\u001b[0m\u001b[0m\n\u001b[0;32m     24\u001b[0m \u001b[1;32mtry\u001b[0m\u001b[1;33m:\u001b[0m\u001b[1;33m\u001b[0m\u001b[1;33m\u001b[0m\u001b[0m\n",
      "\u001b[1;32mD:\\Anaconda\\lib\\site-packages\\pandas\\compat\\__init__.py\u001b[0m in \u001b[0;36m<module>\u001b[1;34m\u001b[0m\n\u001b[0;32m     16\u001b[0m \u001b[1;33m\u001b[0m\u001b[0m\n\u001b[0;32m     17\u001b[0m \u001b[1;32mfrom\u001b[0m \u001b[0mpandas\u001b[0m\u001b[1;33m.\u001b[0m\u001b[0m_typing\u001b[0m \u001b[1;32mimport\u001b[0m \u001b[0mF\u001b[0m\u001b[1;33m\u001b[0m\u001b[1;33m\u001b[0m\u001b[0m\n\u001b[1;32m---> 18\u001b[1;33m from pandas.compat.numpy import (\n\u001b[0m\u001b[0;32m     19\u001b[0m     \u001b[0mis_numpy_dev\u001b[0m\u001b[1;33m,\u001b[0m\u001b[1;33m\u001b[0m\u001b[1;33m\u001b[0m\u001b[0m\n\u001b[0;32m     20\u001b[0m     \u001b[0mnp_version_under1p21\u001b[0m\u001b[1;33m,\u001b[0m\u001b[1;33m\u001b[0m\u001b[1;33m\u001b[0m\u001b[0m\n",
      "\u001b[1;32mD:\\Anaconda\\lib\\site-packages\\pandas\\compat\\numpy\\__init__.py\u001b[0m in \u001b[0;36m<module>\u001b[1;34m\u001b[0m\n\u001b[0;32m     20\u001b[0m \u001b[1;33m\u001b[0m\u001b[0m\n\u001b[0;32m     21\u001b[0m \u001b[1;32mif\u001b[0m \u001b[0m_nlv\u001b[0m \u001b[1;33m<\u001b[0m \u001b[0mVersion\u001b[0m\u001b[1;33m(\u001b[0m\u001b[0m_min_numpy_ver\u001b[0m\u001b[1;33m)\u001b[0m\u001b[1;33m:\u001b[0m\u001b[1;33m\u001b[0m\u001b[1;33m\u001b[0m\u001b[0m\n\u001b[1;32m---> 22\u001b[1;33m     raise ImportError(\n\u001b[0m\u001b[0;32m     23\u001b[0m         \u001b[1;34mf\"this version of pandas is incompatible with numpy < {_min_numpy_ver}\\n\"\u001b[0m\u001b[1;33m\u001b[0m\u001b[1;33m\u001b[0m\u001b[0m\n\u001b[0;32m     24\u001b[0m         \u001b[1;34mf\"your numpy version is {_np_version}.\\n\"\u001b[0m\u001b[1;33m\u001b[0m\u001b[1;33m\u001b[0m\u001b[0m\n",
      "\u001b[1;31mImportError\u001b[0m: this version of pandas is incompatible with numpy < 1.20.3\nyour numpy version is 1.19.2.\nPlease upgrade numpy to >= 1.20.3 to use this pandas version"
     ]
    }
   ],
   "source": [
    "%run Functions_And_Driver.py"
   ]
  },
  {
   "cell_type": "code",
   "execution_count": 4,
   "metadata": {},
   "outputs": [
    {
     "ename": "ImportError",
     "evalue": "this version of pandas is incompatible with numpy < 1.20.3\nyour numpy version is 1.19.2.\nPlease upgrade numpy to >= 1.20.3 to use this pandas version",
     "output_type": "error",
     "traceback": [
      "\u001b[1;31m---------------------------------------------------------------------------\u001b[0m",
      "\u001b[1;31mImportError\u001b[0m                               Traceback (most recent call last)",
      "\u001b[1;32m<ipython-input-4-0b5d4debedf7>\u001b[0m in \u001b[0;36m<module>\u001b[1;34m\u001b[0m\n\u001b[0;32m      1\u001b[0m \u001b[1;32mimport\u001b[0m \u001b[0mimportlib\u001b[0m\u001b[1;33m\u001b[0m\u001b[1;33m\u001b[0m\u001b[0m\n\u001b[1;32m----> 2\u001b[1;33m \u001b[1;32mimport\u001b[0m \u001b[0mFunctions_And_Driver\u001b[0m\u001b[1;33m\u001b[0m\u001b[1;33m\u001b[0m\u001b[0m\n\u001b[0m\u001b[0;32m      3\u001b[0m \u001b[1;33m\u001b[0m\u001b[0m\n\u001b[0;32m      4\u001b[0m \u001b[0mimportlib\u001b[0m\u001b[1;33m.\u001b[0m\u001b[0mreload\u001b[0m\u001b[1;33m(\u001b[0m\u001b[0mFunctions_And_Driver\u001b[0m\u001b[1;33m)\u001b[0m\u001b[1;33m\u001b[0m\u001b[1;33m\u001b[0m\u001b[0m\n",
      "\u001b[1;32m~\\%Projects\\Projects_local\\Web_Crawler\\Functions_And_Driver.py\u001b[0m in \u001b[0;36m<module>\u001b[1;34m\u001b[0m\n\u001b[0;32m     12\u001b[0m \u001b[1;32mimport\u001b[0m \u001b[0mtime\u001b[0m\u001b[1;33m\u001b[0m\u001b[1;33m\u001b[0m\u001b[0m\n\u001b[0;32m     13\u001b[0m \u001b[1;33m\u001b[0m\u001b[0m\n\u001b[1;32m---> 14\u001b[1;33m \u001b[1;32mimport\u001b[0m \u001b[0mpandas\u001b[0m \u001b[1;32mas\u001b[0m \u001b[0mpd\u001b[0m\u001b[1;33m\u001b[0m\u001b[1;33m\u001b[0m\u001b[0m\n\u001b[0m\u001b[0;32m     15\u001b[0m \u001b[1;33m\u001b[0m\u001b[0m\n\u001b[0;32m     16\u001b[0m \u001b[1;32mfrom\u001b[0m \u001b[0mbs4\u001b[0m \u001b[1;32mimport\u001b[0m \u001b[0mBeautifulSoup\u001b[0m\u001b[1;33m\u001b[0m\u001b[1;33m\u001b[0m\u001b[0m\n",
      "\u001b[1;32mD:\\Anaconda\\lib\\site-packages\\pandas\\__init__.py\u001b[0m in \u001b[0;36m<module>\u001b[1;34m\u001b[0m\n\u001b[0;32m     20\u001b[0m \u001b[1;33m\u001b[0m\u001b[0m\n\u001b[0;32m     21\u001b[0m \u001b[1;31m# numpy compat\u001b[0m\u001b[1;33m\u001b[0m\u001b[1;33m\u001b[0m\u001b[1;33m\u001b[0m\u001b[0m\n\u001b[1;32m---> 22\u001b[1;33m \u001b[1;32mfrom\u001b[0m \u001b[0mpandas\u001b[0m\u001b[1;33m.\u001b[0m\u001b[0mcompat\u001b[0m \u001b[1;32mimport\u001b[0m \u001b[0mis_numpy_dev\u001b[0m \u001b[1;32mas\u001b[0m \u001b[0m_is_numpy_dev\u001b[0m  \u001b[1;31m# pyright: ignore # noqa:F401\u001b[0m\u001b[1;33m\u001b[0m\u001b[1;33m\u001b[0m\u001b[0m\n\u001b[0m\u001b[0;32m     23\u001b[0m \u001b[1;33m\u001b[0m\u001b[0m\n\u001b[0;32m     24\u001b[0m \u001b[1;32mtry\u001b[0m\u001b[1;33m:\u001b[0m\u001b[1;33m\u001b[0m\u001b[1;33m\u001b[0m\u001b[0m\n",
      "\u001b[1;32mD:\\Anaconda\\lib\\site-packages\\pandas\\compat\\__init__.py\u001b[0m in \u001b[0;36m<module>\u001b[1;34m\u001b[0m\n\u001b[0;32m     16\u001b[0m \u001b[1;33m\u001b[0m\u001b[0m\n\u001b[0;32m     17\u001b[0m \u001b[1;32mfrom\u001b[0m \u001b[0mpandas\u001b[0m\u001b[1;33m.\u001b[0m\u001b[0m_typing\u001b[0m \u001b[1;32mimport\u001b[0m \u001b[0mF\u001b[0m\u001b[1;33m\u001b[0m\u001b[1;33m\u001b[0m\u001b[0m\n\u001b[1;32m---> 18\u001b[1;33m from pandas.compat.numpy import (\n\u001b[0m\u001b[0;32m     19\u001b[0m     \u001b[0mis_numpy_dev\u001b[0m\u001b[1;33m,\u001b[0m\u001b[1;33m\u001b[0m\u001b[1;33m\u001b[0m\u001b[0m\n\u001b[0;32m     20\u001b[0m     \u001b[0mnp_version_under1p21\u001b[0m\u001b[1;33m,\u001b[0m\u001b[1;33m\u001b[0m\u001b[1;33m\u001b[0m\u001b[0m\n",
      "\u001b[1;32mD:\\Anaconda\\lib\\site-packages\\pandas\\compat\\numpy\\__init__.py\u001b[0m in \u001b[0;36m<module>\u001b[1;34m\u001b[0m\n\u001b[0;32m     20\u001b[0m \u001b[1;33m\u001b[0m\u001b[0m\n\u001b[0;32m     21\u001b[0m \u001b[1;32mif\u001b[0m \u001b[0m_nlv\u001b[0m \u001b[1;33m<\u001b[0m \u001b[0mVersion\u001b[0m\u001b[1;33m(\u001b[0m\u001b[0m_min_numpy_ver\u001b[0m\u001b[1;33m)\u001b[0m\u001b[1;33m:\u001b[0m\u001b[1;33m\u001b[0m\u001b[1;33m\u001b[0m\u001b[0m\n\u001b[1;32m---> 22\u001b[1;33m     raise ImportError(\n\u001b[0m\u001b[0;32m     23\u001b[0m         \u001b[1;34mf\"this version of pandas is incompatible with numpy < {_min_numpy_ver}\\n\"\u001b[0m\u001b[1;33m\u001b[0m\u001b[1;33m\u001b[0m\u001b[0m\n\u001b[0;32m     24\u001b[0m         \u001b[1;34mf\"your numpy version is {_np_version}.\\n\"\u001b[0m\u001b[1;33m\u001b[0m\u001b[1;33m\u001b[0m\u001b[0m\n",
      "\u001b[1;31mImportError\u001b[0m: this version of pandas is incompatible with numpy < 1.20.3\nyour numpy version is 1.19.2.\nPlease upgrade numpy to >= 1.20.3 to use this pandas version"
     ]
    }
   ],
   "source": [
    "import importlib\n",
    "import Functions_And_Driver\n",
    "\n",
    "importlib.reload(Functions_And_Driver)"
   ]
  },
  {
   "cell_type": "code",
   "execution_count": 4,
   "metadata": {},
   "outputs": [],
   "source": [
    "%run \"Scraping_Scripts\\\\Xcite_functions.py\""
   ]
  },
  {
   "cell_type": "code",
   "execution_count": 5,
   "metadata": {},
   "outputs": [],
   "source": [
    "%run \"Scraping_Scripts\\\\Blink_functions.py\""
   ]
  },
  {
   "cell_type": "code",
   "execution_count": 6,
   "metadata": {},
   "outputs": [],
   "source": [
    "%run \"Scraping_Scripts\\\\Best_functions.py\""
   ]
  },
  {
   "cell_type": "code",
   "execution_count": 7,
   "metadata": {},
   "outputs": [],
   "source": [
    "%run \"Scraping_Scripts\\\\Zain_functions.py\""
   ]
  },
  {
   "cell_type": "code",
   "execution_count": 8,
   "metadata": {},
   "outputs": [],
   "source": [
    "%run \"Scraping_Scripts\\\\Zain_Deep_Scraper.py\" #WIP"
   ]
  },
  {
   "cell_type": "code",
   "execution_count": 187,
   "metadata": {},
   "outputs": [],
   "source": [
    "%run \"Scraping_Scripts\\\\Gait_functions.py\""
   ]
  },
  {
   "cell_type": "code",
   "execution_count": null,
   "metadata": {},
   "outputs": [],
   "source": []
  },
  {
   "cell_type": "markdown",
   "metadata": {},
   "source": [
    "#### Metadata"
   ]
  },
  {
   "cell_type": "code",
   "execution_count": 1,
   "metadata": {},
   "outputs": [],
   "source": [
    "#### Metadata \n",
    "\n",
    "# (Shop URLs)\n",
    "\n",
    "Xcite_URL = \"https://www.xcite.com/\"          # Good\n",
    "Blink_URL = \"https://www.blink.com.kw/\"       # Good\n",
    "BestK_URL = \"https://best.com.kw/en/\"         # Good\n",
    "ZainS_URL = \"https://www.kw.zain.com/en/shop\" # Enhancing\n",
    "GaitS_URL = \"https://gait.com.kw/g_kw_en\"     # Good\n",
    "Switch_URL= \"https://switch.com.kw/en/\"       # WIP\n",
    "\n",
    "\n",
    "# Condition lists\n",
    "\n",
    "zain_shop_condition_list = [\n",
    "    'Television', 'Monitor', 'ITaccessories', 'Smart', 'Entertainment', 'Airpod', 'Mac', 'iPad', 'iPhone', 'Network', 'iPod', 'Software', 'PC', 'Speakers', 'Power', 'Mobile', 'Phone', 'Smartphones', 'Apple', 'Samsung', 'Nokia', 'Internet', 'Huawei', 'Nokia', 'Netgear', 'Avxav', 'Laptops',\n",
    "    'Microsoft', 'Tablets', 'Wearables', 'Beats', 'Audio', 'Headsets', 'Gaming', 'Sony', 'Nintendo', 'Smart TV',\n",
    "    'LG', 'TCL', 'TV', 'OLLZ', 'Pukka', 'Power Banks', 'Cables', 'Magsafe', 'Cover', 'Cases',\n",
    "    'Chargers', 'AirTag', 'Grips', 'Handles', 'Audio', 'Screen Protectors', 'Car Accessories', 'Smart Home',\n",
    "    'TP link', 'D-link', 'Cards', 'Amazon', 'Playstation', 'Xbox', 'PUBG', 'Blizzard', 'Roblox'\n",
    "]"
   ]
  },
  {
   "cell_type": "markdown",
   "metadata": {},
   "source": [
    "### Xcite Crawl"
   ]
  },
  {
   "cell_type": "code",
   "execution_count": null,
   "metadata": {},
   "outputs": [],
   "source": [
    "# Menu links\n",
    "\n",
    "Xcite_category_list = [\n",
    "    'Computers & Tablets',\n",
    "    'Phones & Personal Audio',\n",
    "    'Gift Cards',\n",
    "    'TVs, Home Theaters & Projectors',\n",
    "    'Gaming'\n",
    "]\n",
    "\n",
    "Xcite_links = Xcite_menu_crawl(Xcite_URL, Xcite_category_list)"
   ]
  },
  {
   "cell_type": "code",
   "execution_count": null,
   "metadata": {
    "scrolled": true
   },
   "outputs": [],
   "source": [
    "# Cemetary creation <BIG PC LOAD - RUN ONLY WHEN NECESSARY>\n",
    "\n",
    "# Timestamp\n",
    "date_scraped = date.today().strftime(\"%Y/%m/%d\")\n",
    "\n",
    "# Xcite cemetary creation\n",
    "Xcite_cemetary = Xcite_link_crawl(Xcite_links)"
   ]
  },
  {
   "cell_type": "code",
   "execution_count": null,
   "metadata": {},
   "outputs": [],
   "source": [
    "# Xcite product catalog\n",
    "Xcite_product_dictionary = Xcite_cemetary_product_parse(Xcite_cemetary)"
   ]
  },
  {
   "cell_type": "code",
   "execution_count": null,
   "metadata": {},
   "outputs": [],
   "source": [
    "# Instantiation into DataFrame\n",
    "\n",
    "Xcite_product_df = pd.DataFrame.from_dict(Xcite_product_dictionary, orient='index').reset_index()\n",
    "Xcite_product_df.columns = ['product_name'] + Xcite_product_df.columns.to_list()[1:]"
   ]
  },
  {
   "cell_type": "code",
   "execution_count": null,
   "metadata": {},
   "outputs": [],
   "source": [
    "# Timestamp dataframe\n",
    "\n",
    "Xcite_product_df['date_scraped'] = date_scraped"
   ]
  },
  {
   "cell_type": "code",
   "execution_count": null,
   "metadata": {},
   "outputs": [],
   "source": [
    "# Export to excel\n",
    "\n",
    "Xcite_product_df.to_excel(f\"Product_Catalog_Outputs\\Xcite_product_catalog_{date.today().strftime('%Y_%m_%d')}.xlsx\", index=True)"
   ]
  },
  {
   "cell_type": "markdown",
   "metadata": {},
   "source": [
    "### Blink Crawl"
   ]
  },
  {
   "cell_type": "code",
   "execution_count": null,
   "metadata": {},
   "outputs": [],
   "source": [
    "# Menu links\n",
    "\n",
    "Blink_category_list = [\n",
    "    'Apple Products',\n",
    "    'Mobile & Accessories',\n",
    "    'Gift Cards',\n",
    "    'Computers & Tablets',\n",
    "    'Electronics',\n",
    "    'Gaming PC',\n",
    "    'Gaming Console'\n",
    "]\n",
    "\n",
    "\n",
    "Blink_category_list_link = [\n",
    "    'apple-products',\n",
    "    'mobile-accessories',\n",
    "    'digital-cards',\n",
    "    'computers',\n",
    "    'home-electronics',\n",
    "    'gaming-pc',\n",
    "    'gaming-console'\n",
    "]\n",
    "\n",
    "Blink_links = blink_menu_crawl(Blink_URL, Blink_category_list)\n",
    "\n",
    "# Blink links filtered by blink condition list\n",
    "Blink_links_filtered = list(set(filter_blink(Blink_links,Blink_category_list_link)))"
   ]
  },
  {
   "cell_type": "code",
   "execution_count": null,
   "metadata": {
    "scrolled": true
   },
   "outputs": [],
   "source": [
    "# Cemetary creation <BIG PC LOAD - RUN ONLY WHEN NECESSARY>\n",
    "\n",
    "# Timestamp\n",
    "date_scraped = date.today().strftime(\"%Y/%m/%d\")\n",
    "\n",
    "Blink_cemetary = blink_link_crawl(Blink_links_filtered)"
   ]
  },
  {
   "cell_type": "code",
   "execution_count": null,
   "metadata": {},
   "outputs": [],
   "source": [
    "# Blink product catalog\n",
    "\n",
    "Blink_product_dictionary = blink_cemetary_product_parse(Blink_cemetary)"
   ]
  },
  {
   "cell_type": "code",
   "execution_count": null,
   "metadata": {},
   "outputs": [],
   "source": [
    "# Instantiation into DataFrame\n",
    "\n",
    "Blink_product_df = pd.DataFrame.from_dict(Blink_product_dictionary, orient='index').reset_index()\n",
    "Blink_product_df.columns = ['product_name'] + Blink_product_df.columns.to_list()[1:]"
   ]
  },
  {
   "cell_type": "code",
   "execution_count": null,
   "metadata": {},
   "outputs": [],
   "source": [
    "# Timestamp dataframe\n",
    "\n",
    "Blink_product_df['date_scraped'] = date_scraped"
   ]
  },
  {
   "cell_type": "code",
   "execution_count": null,
   "metadata": {},
   "outputs": [],
   "source": [
    "# Export to excel\n",
    "\n",
    "Blink_product_df.to_excel(f\"Product_Catalog_Outputs\\Blink_product_catalog_{date.today().strftime('%Y_%m_%d')}.xlsx\", index=True)"
   ]
  },
  {
   "cell_type": "markdown",
   "metadata": {},
   "source": [
    "### Best Crawl"
   ]
  },
  {
   "cell_type": "code",
   "execution_count": null,
   "metadata": {},
   "outputs": [],
   "source": [
    "# Menu links\n",
    "\n",
    "Best_category_list = [\n",
    "    'Panasonic Store',\n",
    "    'Home Entertainment',\n",
    "    'Mobiles',\n",
    "    'Gaming',\n",
    "    'Computers And Tablets',\n",
    "    'Perfume & Watches'\n",
    "]\n",
    "\n",
    "Best_links = best_menu_crawl(BestK_URL, Best_category_list)\n",
    "\n",
    "# Best_links preprocessing\n",
    "for index, HREF in enumerate(Best_links):\n",
    "    if HREF[0] == \"/\":\n",
    "        Best_links[index] = f\"https://best.com.kw/en{Best_links[index]}\"\n",
    "    else:\n",
    "        Best_links[index] = f\"https://best.com.kw/en/{Best_links[index]}\"\n",
    "\n",
    "# Best links filtered by Zain condition list\n",
    "\n",
    "Best_links_filtered = list(set(fd.filter_devices(Best_links, zain_shop_condition_list)))"
   ]
  },
  {
   "cell_type": "code",
   "execution_count": null,
   "metadata": {},
   "outputs": [],
   "source": [
    "# Cemetary creation <BIG PC LOAD - RUN ONLY WHEN NECESSARY>\n",
    "\n",
    "# Timestamp\n",
    "date_scraped = date.today().strftime(\"%Y/%m/%d\")\n",
    "\n",
    "Best_cemetary = best_link_crawl(Best_links_filtered)"
   ]
  },
  {
   "cell_type": "code",
   "execution_count": null,
   "metadata": {},
   "outputs": [],
   "source": [
    "# Blink product catalog\n",
    "\n",
    "Best_product_dictionary = best_cemetary_product_parse(Best_cemetary)"
   ]
  },
  {
   "cell_type": "code",
   "execution_count": null,
   "metadata": {},
   "outputs": [],
   "source": [
    "# Instantiation into DataFrame\n",
    "\n",
    "Best_product_df = pd.DataFrame.from_dict(Best_product_dictionary, orient='index').reset_index()\n",
    "Best_product_df.columns = ['product_name'] + Best_product_df.columns.to_list()[1:]"
   ]
  },
  {
   "cell_type": "code",
   "execution_count": null,
   "metadata": {},
   "outputs": [],
   "source": [
    "# Timestamp dataframe\n",
    "\n",
    "Best_product_df['date_scraped'] = date_scraped"
   ]
  },
  {
   "cell_type": "code",
   "execution_count": null,
   "metadata": {},
   "outputs": [],
   "source": [
    "# Export to excel\n",
    "\n",
    "Best_product_df.to_excel(f\"Product_Catalog_Outputs\\Best_product_catalog_{date.today().strftime('%Y_%m_%d')}.xlsx\", index=True)"
   ]
  },
  {
   "cell_type": "markdown",
   "metadata": {},
   "source": [
    "### Zain Crawl"
   ]
  },
  {
   "cell_type": "code",
   "execution_count": null,
   "metadata": {},
   "outputs": [],
   "source": [
    "# Menu links\n",
    "\n",
    "Zain_links = zain_menu_crawl(ZainS_URL)\n",
    "\n",
    "# Manually include e-cards\n",
    "\n",
    "Zain_links.append(\"https://www.kw.zain.com/en/shop/e-cards\")"
   ]
  },
  {
   "cell_type": "code",
   "execution_count": null,
   "metadata": {},
   "outputs": [],
   "source": [
    "# Cemetary creation <BIG PC LOAD - RUN ONLY WHEN NECESSARY>\n",
    "\n",
    "# Timestamp\n",
    "date_scraped = date.today().strftime(\"%Y/%m/%d\")\n",
    "\n",
    "Zain_cemetary = Zain_link_crawl(Zain_links)"
   ]
  },
  {
   "cell_type": "code",
   "execution_count": null,
   "metadata": {},
   "outputs": [],
   "source": [
    "# Product catalog\n",
    "\n",
    "Zain_product_dictionary = Zain_cemetary_product_parse(Zain_cemetary)"
   ]
  },
  {
   "cell_type": "code",
   "execution_count": null,
   "metadata": {},
   "outputs": [],
   "source": [
    "# Instantiation into DataFrame\n",
    "\n",
    "Zain_product_df = pd.DataFrame.from_dict(Zain_product_dictionary, orient='index').reset_index()\n",
    "Zain_product_df.columns = ['product_name'] + Zain_product_df.columns.to_list()[1:]"
   ]
  },
  {
   "cell_type": "code",
   "execution_count": null,
   "metadata": {},
   "outputs": [],
   "source": [
    "# Timestamp dataframe\n",
    "\n",
    "Zain_product_df['date_scraped'] = date_scraped"
   ]
  },
  {
   "cell_type": "code",
   "execution_count": null,
   "metadata": {},
   "outputs": [],
   "source": [
    "# Export to excel\n",
    "\n",
    "Zain_product_df.to_excel(f\"Product_Catalog_Outputs\\Zain_product_catalog_{date.today().strftime('%Y_%m_%d')}.xlsx\", index=True)"
   ]
  },
  {
   "cell_type": "markdown",
   "metadata": {},
   "source": [
    "#### Zain Data Enrichment"
   ]
  },
  {
   "cell_type": "code",
   "execution_count": null,
   "metadata": {},
   "outputs": [],
   "source": [
    "Zain_product_links = Zain_product_df['product_link'].to_list()"
   ]
  },
  {
   "cell_type": "code",
   "execution_count": null,
   "metadata": {},
   "outputs": [],
   "source": []
  },
  {
   "cell_type": "markdown",
   "metadata": {},
   "source": [
    "### Gait Crawl"
   ]
  },
  {
   "cell_type": "code",
   "execution_count": 11,
   "metadata": {},
   "outputs": [
    {
     "name": "stderr",
     "output_type": "stream",
     "text": [
      "[WDM] - Downloading: 100%|████████████████████████████████████████████████████████| 6.30M/6.30M [00:00<00:00, 13.2MB/s]\n"
     ]
    }
   ],
   "source": [
    "# Menu links\n",
    "\n",
    "Gait_links = Gait_menu_crawl(GaitS_URL)"
   ]
  },
  {
   "cell_type": "code",
   "execution_count": 193,
   "metadata": {},
   "outputs": [
    {
     "name": "stdout",
     "output_type": "stream",
     "text": [
      "Generated 1 chunks\n",
      "https://gait.com.kw/g_kw_en/ipad page end detected\n",
      "Generated 4 chunks\n",
      "https://gait.com.kw/g_kw_en/iphone page end detected\n",
      "Generated 1 chunks\n",
      "https://gait.com.kw/g_kw_en/music page end detected\n",
      "Generated 1 chunks\n",
      "https://gait.com.kw/g_kw_en/applewatch page end detected\n",
      "Generated 1 chunks\n",
      "https://gait.com.kw/g_kw_en/mac page end detected\n",
      "Generated 1 chunks\n",
      "https://gait.com.kw/g_kw_en/special-deals page end detected\n",
      "Generated 1 chunks\n",
      "https://gait.com.kw/g_kw_en/airpods-airpodspro page end detected\n",
      "Generated 8 chunks\n",
      "https://gait.com.kw/g_kw_en/accessories page end detected\n",
      "Generated 1 chunks\n",
      "https://gait.com.kw/g_kw_en/tv page end detected\n"
     ]
    }
   ],
   "source": [
    "# Cemetary creation <BIG PC LOAD - RUN ONLY WHEN NECESSARY>\n",
    "\n",
    "# Timestamp\n",
    "date_scraped = date.today().strftime(\"%Y/%m/%d\")\n",
    "\n",
    "Gait_cemetary = Gait_link_crawl(Gait_links)"
   ]
  },
  {
   "cell_type": "code",
   "execution_count": 194,
   "metadata": {},
   "outputs": [],
   "source": [
    "# Product catalog\n",
    "\n",
    "Gait_product_dictionary = Gait_cemetary_product_parse(Gait_cemetary)"
   ]
  },
  {
   "cell_type": "code",
   "execution_count": 195,
   "metadata": {},
   "outputs": [],
   "source": [
    "# Instantiation into DataFrame\n",
    "\n",
    "Gait_product_df = pd.DataFrame.from_dict(Gait_product_dictionary, orient='index').reset_index()\n",
    "Gait_product_df.columns = ['product_name'] + Gait_product_df.columns.to_list()[1:]"
   ]
  },
  {
   "cell_type": "code",
   "execution_count": 196,
   "metadata": {},
   "outputs": [],
   "source": [
    "# Timestamp dataframe\n",
    "\n",
    "Gait_product_df['date_scraped'] = date_scraped"
   ]
  },
  {
   "cell_type": "code",
   "execution_count": 197,
   "metadata": {},
   "outputs": [],
   "source": [
    "# Export to excel\n",
    "\n",
    "Gait_product_df.to_excel(f\"Product_Catalog_Outputs\\Gait_product_catalog_{date.today().strftime('%Y_%m_%d')}.xlsx\", index=True)"
   ]
  },
  {
   "cell_type": "code",
   "execution_count": 198,
   "metadata": {},
   "outputs": [
    {
     "data": {
      "text/html": [
       "<div>\n",
       "<style scoped>\n",
       "    .dataframe tbody tr th:only-of-type {\n",
       "        vertical-align: middle;\n",
       "    }\n",
       "\n",
       "    .dataframe tbody tr th {\n",
       "        vertical-align: top;\n",
       "    }\n",
       "\n",
       "    .dataframe thead th {\n",
       "        text-align: right;\n",
       "    }\n",
       "</style>\n",
       "<table border=\"1\" class=\"dataframe\">\n",
       "  <thead>\n",
       "    <tr style=\"text-align: right;\">\n",
       "      <th></th>\n",
       "      <th>product_name</th>\n",
       "      <th>product_brand</th>\n",
       "      <th>product_price</th>\n",
       "      <th>product_discount</th>\n",
       "      <th>price_before_discount</th>\n",
       "      <th>in_out_stock</th>\n",
       "      <th>product_link</th>\n",
       "      <th>product_image</th>\n",
       "      <th>date_scraped</th>\n",
       "    </tr>\n",
       "  </thead>\n",
       "  <tbody>\n",
       "    <tr>\n",
       "      <th>0</th>\n",
       "      <td>iPad Pro 2022</td>\n",
       "      <td>iPad</td>\n",
       "      <td>KD 275.900</td>\n",
       "      <td></td>\n",
       "      <td></td>\n",
       "      <td>in_stock</td>\n",
       "      <td>https://gait.com.kw/g_kw_en/buy-ipad-pro-2022</td>\n",
       "      <td>https://gait.com.kw/media/catalog/product/c/o/...</td>\n",
       "      <td>2023/06/26</td>\n",
       "    </tr>\n",
       "    <tr>\n",
       "      <th>1</th>\n",
       "      <td>iPad 10.9\" 2022</td>\n",
       "      <td>iPad</td>\n",
       "      <td>KD 156.900</td>\n",
       "      <td></td>\n",
       "      <td></td>\n",
       "      <td>in_stock</td>\n",
       "      <td>https://gait.com.kw/g_kw_en/buy-ipad-2022</td>\n",
       "      <td>https://gait.com.kw/media/catalog/product/m/p/...</td>\n",
       "      <td>2023/06/26</td>\n",
       "    </tr>\n",
       "    <tr>\n",
       "      <th>2</th>\n",
       "      <td>iPad Air 2022</td>\n",
       "      <td>iPad</td>\n",
       "      <td>KD 263.900</td>\n",
       "      <td></td>\n",
       "      <td></td>\n",
       "      <td>in_stock</td>\n",
       "      <td>https://gait.com.kw/g_kw_en/ipad-air-2022-conf...</td>\n",
       "      <td>https://gait.com.kw/media/catalog/product/c/o/...</td>\n",
       "      <td>2023/06/26</td>\n",
       "    </tr>\n",
       "    <tr>\n",
       "      <th>3</th>\n",
       "      <td>iPad Pro 2021</td>\n",
       "      <td>iPad</td>\n",
       "      <td>KD 262.900</td>\n",
       "      <td>19.08%</td>\n",
       "      <td>KD 324.900</td>\n",
       "      <td>in_stock</td>\n",
       "      <td>https://gait.com.kw/g_kw_en/ipad-pro-2021-conf...</td>\n",
       "      <td>https://gait.com.kw/media/catalog/product/m/h/...</td>\n",
       "      <td>2023/06/26</td>\n",
       "    </tr>\n",
       "    <tr>\n",
       "      <th>4</th>\n",
       "      <td>iPad mini (2021)</td>\n",
       "      <td>iPad</td>\n",
       "      <td>KD 177.000</td>\n",
       "      <td></td>\n",
       "      <td></td>\n",
       "      <td>in_stock</td>\n",
       "      <td>https://gait.com.kw/g_kw_en/ipad-mini-2021-con...</td>\n",
       "      <td>https://gait.com.kw/media/catalog/product/m/l/...</td>\n",
       "      <td>2023/06/26</td>\n",
       "    </tr>\n",
       "    <tr>\n",
       "      <th>...</th>\n",
       "      <td>...</td>\n",
       "      <td>...</td>\n",
       "      <td>...</td>\n",
       "      <td>...</td>\n",
       "      <td>...</td>\n",
       "      <td>...</td>\n",
       "      <td>...</td>\n",
       "      <td>...</td>\n",
       "      <td>...</td>\n",
       "    </tr>\n",
       "    <tr>\n",
       "      <th>2019</th>\n",
       "      <td>Apple TV 4K Wi-Fi + Ethernet with 128GB</td>\n",
       "      <td>Apple TV 4K</td>\n",
       "      <td>KD 54.00</td>\n",
       "      <td></td>\n",
       "      <td></td>\n",
       "      <td>out_of_stock</td>\n",
       "      <td>https://gait.com.kw/g_kw_en/apple-tv-4k-wi-fi-...</td>\n",
       "      <td>https://gait.com.kw/media/catalog/product/M/N/...</td>\n",
       "      <td>2023/06/26</td>\n",
       "    </tr>\n",
       "    <tr>\n",
       "      <th>2020</th>\n",
       "      <td>Elago R4 Apple TV Siri Remote Retro Case - Blue</td>\n",
       "      <td>Elago</td>\n",
       "      <td>KD 8.50</td>\n",
       "      <td></td>\n",
       "      <td></td>\n",
       "      <td>out_of_stock</td>\n",
       "      <td>https://gait.com.kw/g_kw_en/elago-r4-apple-tv-...</td>\n",
       "      <td>https://gait.com.kw/media/catalog/product/E/R/...</td>\n",
       "      <td>2023/06/26</td>\n",
       "    </tr>\n",
       "    <tr>\n",
       "      <th>2021</th>\n",
       "      <td>Elago R1 Intelli Case For Apple Tv Remote - Black</td>\n",
       "      <td>Elago</td>\n",
       "      <td>KD 6.50</td>\n",
       "      <td></td>\n",
       "      <td></td>\n",
       "      <td>out_of_stock</td>\n",
       "      <td>https://gait.com.kw/g_kw_en/elago-r1-intelli-c...</td>\n",
       "      <td>https://gait.com.kw/media/catalog/product/E/R/...</td>\n",
       "      <td>2023/06/26</td>\n",
       "    </tr>\n",
       "    <tr>\n",
       "      <th>2022</th>\n",
       "      <td>Elago R4 Retro Apple TV Remote Case - Blue</td>\n",
       "      <td>Elago</td>\n",
       "      <td>KD 8.50</td>\n",
       "      <td></td>\n",
       "      <td></td>\n",
       "      <td>out_of_stock</td>\n",
       "      <td>https://gait.com.kw/g_kw_en/elago-r4-retro-app...</td>\n",
       "      <td>https://gait.com.kw/media/catalog/product/E/R/...</td>\n",
       "      <td>2023/06/26</td>\n",
       "    </tr>\n",
       "    <tr>\n",
       "      <th>2023</th>\n",
       "      <td>Elago R4 Apple TV Siri Remote Retro Case - Black</td>\n",
       "      <td>Elago</td>\n",
       "      <td>KD 8.50</td>\n",
       "      <td></td>\n",
       "      <td></td>\n",
       "      <td>out_of_stock</td>\n",
       "      <td>https://gait.com.kw/g_kw_en/elago-r4-apple-tv-...</td>\n",
       "      <td>https://gait.com.kw/media/catalog/product/E/R/...</td>\n",
       "      <td>2023/06/26</td>\n",
       "    </tr>\n",
       "  </tbody>\n",
       "</table>\n",
       "<p>2024 rows × 9 columns</p>\n",
       "</div>"
      ],
      "text/plain": [
       "                                           product_name product_brand  \\\n",
       "0                                         iPad Pro 2022          iPad   \n",
       "1                                       iPad 10.9\" 2022          iPad   \n",
       "2                                         iPad Air 2022          iPad   \n",
       "3                                         iPad Pro 2021          iPad   \n",
       "4                                      iPad mini (2021)          iPad   \n",
       "...                                                 ...           ...   \n",
       "2019            Apple TV 4K Wi-Fi + Ethernet with 128GB   Apple TV 4K   \n",
       "2020    Elago R4 Apple TV Siri Remote Retro Case - Blue         Elago   \n",
       "2021  Elago R1 Intelli Case For Apple Tv Remote - Black         Elago   \n",
       "2022         Elago R4 Retro Apple TV Remote Case - Blue         Elago   \n",
       "2023   Elago R4 Apple TV Siri Remote Retro Case - Black         Elago   \n",
       "\n",
       "     product_price product_discount price_before_discount  in_out_stock  \\\n",
       "0       KD 275.900                                             in_stock   \n",
       "1       KD 156.900                                             in_stock   \n",
       "2       KD 263.900                                             in_stock   \n",
       "3       KD 262.900           19.08%            KD 324.900      in_stock   \n",
       "4       KD 177.000                                             in_stock   \n",
       "...            ...              ...                   ...           ...   \n",
       "2019      KD 54.00                                         out_of_stock   \n",
       "2020       KD 8.50                                         out_of_stock   \n",
       "2021       KD 6.50                                         out_of_stock   \n",
       "2022       KD 8.50                                         out_of_stock   \n",
       "2023       KD 8.50                                         out_of_stock   \n",
       "\n",
       "                                           product_link  \\\n",
       "0         https://gait.com.kw/g_kw_en/buy-ipad-pro-2022   \n",
       "1             https://gait.com.kw/g_kw_en/buy-ipad-2022   \n",
       "2     https://gait.com.kw/g_kw_en/ipad-air-2022-conf...   \n",
       "3     https://gait.com.kw/g_kw_en/ipad-pro-2021-conf...   \n",
       "4     https://gait.com.kw/g_kw_en/ipad-mini-2021-con...   \n",
       "...                                                 ...   \n",
       "2019  https://gait.com.kw/g_kw_en/apple-tv-4k-wi-fi-...   \n",
       "2020  https://gait.com.kw/g_kw_en/elago-r4-apple-tv-...   \n",
       "2021  https://gait.com.kw/g_kw_en/elago-r1-intelli-c...   \n",
       "2022  https://gait.com.kw/g_kw_en/elago-r4-retro-app...   \n",
       "2023  https://gait.com.kw/g_kw_en/elago-r4-apple-tv-...   \n",
       "\n",
       "                                          product_image date_scraped  \n",
       "0     https://gait.com.kw/media/catalog/product/c/o/...   2023/06/26  \n",
       "1     https://gait.com.kw/media/catalog/product/m/p/...   2023/06/26  \n",
       "2     https://gait.com.kw/media/catalog/product/c/o/...   2023/06/26  \n",
       "3     https://gait.com.kw/media/catalog/product/m/h/...   2023/06/26  \n",
       "4     https://gait.com.kw/media/catalog/product/m/l/...   2023/06/26  \n",
       "...                                                 ...          ...  \n",
       "2019  https://gait.com.kw/media/catalog/product/M/N/...   2023/06/26  \n",
       "2020  https://gait.com.kw/media/catalog/product/E/R/...   2023/06/26  \n",
       "2021  https://gait.com.kw/media/catalog/product/E/R/...   2023/06/26  \n",
       "2022  https://gait.com.kw/media/catalog/product/E/R/...   2023/06/26  \n",
       "2023  https://gait.com.kw/media/catalog/product/E/R/...   2023/06/26  \n",
       "\n",
       "[2024 rows x 9 columns]"
      ]
     },
     "execution_count": 198,
     "metadata": {},
     "output_type": "execute_result"
    }
   ],
   "source": [
    "Gait_product_df"
   ]
  },
  {
   "cell_type": "markdown",
   "metadata": {},
   "source": [
    "# <span style='color:red'>R&D</span>"
   ]
  },
  {
   "cell_type": "markdown",
   "metadata": {},
   "source": [
    "Gait webcrawl"
   ]
  },
  {
   "cell_type": "code",
   "execution_count": null,
   "metadata": {},
   "outputs": [],
   "source": []
  },
  {
   "cell_type": "markdown",
   "metadata": {},
   "source": [
    "zain deep crawl (data enrichment)"
   ]
  },
  {
   "cell_type": "code",
   "execution_count": null,
   "metadata": {},
   "outputs": [],
   "source": [
    "# Deep crawler (individual product link visits)\n",
    "\n",
    "opts = ChromeOptions()\n",
    "opts.add_argument(\"--start-maximized\")\n",
    "driver = webdriver.Chrome(ChromeDriverManager().install(), options=opts)\n",
    "\n",
    "driver.get('https://www.kw.zain.com/en/shop/galaxy-a54-')\n",
    "\n",
    "# Ensure english site\n",
    "try:\n",
    "    driver.find_element_by_xpath('//a[text()=\"العربية\"]')\n",
    "except:\n",
    "    english_site = driver.find_element_by_xpath('//a[text()=\"english\"]')\n",
    "    english_site.click()\n",
    "    time.sleep(1)\n",
    "\n",
    "# Click individual tabs\n",
    "size_row   = driver.find_element_by_xpath('//div[contains(@class, \"form-group\") and contains(@class, \"liferay-ddm-form-field-radio\") and contains(@class, \"size\")]//label[text()=\"Size\"]/ancestor::div[1]')\n",
    "label_elements = size_row.find_elements_by_xpath('.//span')\n",
    "for label in label_elements:\n",
    "    try:\n",
    "        print(label.text)\n",
    "        label.click()\n",
    "    except Exception:\n",
    "        print(Exception)\n",
    "\n",
    "color_row  = driver.find_element_by_xpath('//div[contains(@class, \"form-group\") and contains(@class, \"zain-custom-color-form-field-form-field\") and contains(@class, \"color\")]//label[starts-with(text(), \"Color\")]/ancestor::div[1]')\n",
    "\n",
    "\n",
    "cash_deals = driver.find_element_by_xpath('//label[text()=\"Cash Deals🔥\"]')\n",
    "\n",
    "html_content = driver.page_source\n",
    "\n",
    "driver.quit()\n",
    "\n",
    "list_graves = str(BeautifulSoup(html.unescape(html_content), 'html.parser'))"
   ]
  },
  {
   "cell_type": "code",
   "execution_count": null,
   "metadata": {},
   "outputs": [],
   "source": [
    "list_graves"
   ]
  },
  {
   "cell_type": "code",
   "execution_count": null,
   "metadata": {},
   "outputs": [],
   "source": [
    "label_list"
   ]
  },
  {
   "cell_type": "code",
   "execution_count": null,
   "metadata": {},
   "outputs": [],
   "source": []
  }
 ],
 "metadata": {
  "kernelspec": {
   "display_name": "Python 3",
   "language": "python",
   "name": "python3"
  },
  "language_info": {
   "codemirror_mode": {
    "name": "ipython",
    "version": 3
   },
   "file_extension": ".py",
   "mimetype": "text/x-python",
   "name": "python",
   "nbconvert_exporter": "python",
   "pygments_lexer": "ipython3",
   "version": "3.8.5"
  }
 },
 "nbformat": 4,
 "nbformat_minor": 5
}
