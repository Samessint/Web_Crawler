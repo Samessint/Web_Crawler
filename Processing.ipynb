{
 "cells": [
  {
   "cell_type": "markdown",
   "id": "85fe6d89",
   "metadata": {},
   "source": [
    "# Crawl Format"
   ]
  },
  {
   "cell_type": "markdown",
   "id": "27fd7e06",
   "metadata": {},
   "source": [
    "#1 Menu links\n",
    "\n",
    "\n",
    "#2 Cemetary creation <BIG PC LOAD - RUN ONLY WHEN NECESSARY>\n",
    "    \n",
    "#2 Timestamp\n",
    "* date_scraped = date.today().strftime(\"%Y/%m/%d\")\n",
    "\n",
    "\n",
    "#3 Product catalog\n",
    "\n",
    "\n",
    "#4 Instantiation into DataFrame\n",
    "\n",
    "\n",
    "#5 Timestamp dataframe\n",
    "\n",
    "\n",
    "#6 Export to excel"
   ]
  },
  {
   "cell_type": "markdown",
   "id": "bd873bbc",
   "metadata": {},
   "source": [
    "# <span style='color:red'>Processing</style>"
   ]
  },
  {
   "cell_type": "code",
   "execution_count": 4,
   "id": "946345bd",
   "metadata": {},
   "outputs": [],
   "source": [
    "from datetime import date"
   ]
  },
  {
   "cell_type": "code",
   "execution_count": 5,
   "id": "5566a03c",
   "metadata": {},
   "outputs": [],
   "source": [
    "driver_path = 'C:/Users/Sleepwalk/.cache/selenium/chromedriver/win32/114.0.5735.90/chromedriver.exe'"
   ]
  },
  {
   "cell_type": "markdown",
   "id": "e781e8db",
   "metadata": {},
   "source": [
    "#### Scripts"
   ]
  },
  {
   "cell_type": "code",
   "execution_count": 6,
   "id": "48d816b7",
   "metadata": {},
   "outputs": [],
   "source": [
    "%run Functions_And_Driver.py"
   ]
  },
  {
   "cell_type": "code",
   "execution_count": 7,
   "id": "4ccc6495",
   "metadata": {},
   "outputs": [
    {
     "data": {
      "text/plain": [
       "<module 'Functions_And_Driver' from 'C:\\\\Users\\\\Sleepwalk\\\\%Zain\\\\Webcrawl\\\\Web_Crawler\\\\Functions_And_Driver.py'>"
      ]
     },
     "execution_count": 7,
     "metadata": {},
     "output_type": "execute_result"
    }
   ],
   "source": [
    "import importlib\n",
    "import Functions_And_Driver\n",
    "\n",
    "importlib.reload(Functions_And_Driver)"
   ]
  },
  {
   "cell_type": "code",
   "execution_count": null,
   "id": "1ef74750",
   "metadata": {},
   "outputs": [],
   "source": [
    "%run \"Scraping_Scripts\\\\Xcite_functions.py\""
   ]
  },
  {
   "cell_type": "code",
   "execution_count": null,
   "id": "732e4bcc",
   "metadata": {},
   "outputs": [],
   "source": [
    "%run \"Scraping_Scripts\\\\Blink_functions.py\""
   ]
  },
  {
   "cell_type": "code",
   "execution_count": null,
   "id": "0b8cdde1",
   "metadata": {},
   "outputs": [],
   "source": [
    "%run \"Scraping_Scripts\\\\Best_functions.py\""
   ]
  },
  {
   "cell_type": "code",
   "execution_count": null,
   "id": "b4d4ddcc",
   "metadata": {},
   "outputs": [],
   "source": [
    "%run \"Scraping_Scripts\\\\Zain_functions.py\""
   ]
  },
  {
   "cell_type": "code",
   "execution_count": null,
   "id": "3f1e86d4",
   "metadata": {},
   "outputs": [],
   "source": [
    "%run \"Scraping_Scripts\\\\Zain_Deep_Scraper.py\""
   ]
  },
  {
   "cell_type": "code",
   "execution_count": 33,
   "id": "71ffda7b",
   "metadata": {},
   "outputs": [],
   "source": [
    "%run \"Scraping_Scripts\\\\Gait_functions.py\""
   ]
  },
  {
   "cell_type": "code",
   "execution_count": null,
   "id": "31883f7f",
   "metadata": {},
   "outputs": [],
   "source": [
    "%run \"Scraping_Scripts\\\\Shopi2_functions.py\""
   ]
  },
  {
   "cell_type": "code",
   "execution_count": null,
   "id": "ac3edd4c",
   "metadata": {},
   "outputs": [],
   "source": [
    "%run \"Scraping_Scripts\\\\Switch_functions.py\""
   ]
  },
  {
   "cell_type": "code",
   "execution_count": 14,
   "id": "e05fa6fe",
   "metadata": {},
   "outputs": [],
   "source": [
    "%run \"Scraping_Scripts\\\\Ooredoo_functions.py\""
   ]
  },
  {
   "cell_type": "code",
   "execution_count": 13,
   "id": "84a158a5",
   "metadata": {},
   "outputs": [],
   "source": [
    "%run \"Scraping_Scripts\\\\Stc_functions.py\""
   ]
  },
  {
   "cell_type": "markdown",
   "id": "70c6ff15",
   "metadata": {},
   "source": [
    "#### Metadata"
   ]
  },
  {
   "cell_type": "code",
   "execution_count": 9,
   "id": "977d26d2",
   "metadata": {},
   "outputs": [],
   "source": [
    "#### Metadata \n",
    "\n",
    "# Shop URLs\n",
    "\n",
    "Xcite_URL  = \"https://www.xcite.com/\"          # Good\n",
    "Blink_URL  = \"https://www.blink.com.kw/\"       # Good\n",
    "BestK_URL  = \"https://best.com.kw/en/\"         # Good\n",
    "GaitS_URL  = \"https://gait.com.kw/g_kw_en\"     # Good - might enhance\n",
    "i2_URL     = \"https://shopi2.com.kw/\"          # Good\n",
    "Switch_URL = \"https://switch.com.kw/en/\"       # Good\n",
    "\n",
    "# Telecom URLs\n",
    "\n",
    "ZainS_URL  = \"https://www.kw.zain.com/en/shop\"            # Enhancing - [unique]\n",
    "Ooredoo_URL= \"https://shop.ooredoo.com.kw/EN/devices\"     # WIP - Lots of issues - [unique]\n",
    "Stc_URL    = \"https://www.stc.com.kw/en/e-store\"          # WIP - [unique; can't scrape price]\n",
    "\n",
    "# Condition lists\n",
    "\n",
    "zain_shop_condition_list = [\n",
    "    'Television', 'Monitor', 'ITaccessories', 'Smart', 'Entertainment', 'Airpod', 'Mac', 'iPad', 'iPhone', 'Network', \n",
    "    'iPod', 'Software', 'PC', 'Speakers', 'Power', 'Mobile', 'Phone', 'Smartphones', 'Apple', 'Samsung', 'Nokia', 'Internet', \n",
    "    'Huawei', 'Nokia', 'Netgear', 'Avxav', 'Laptops',\n",
    "    'Microsoft', 'Tablets', 'Wearables', 'Beats', 'Audio', 'Headsets', 'Gaming', 'Sony', 'Nintendo', 'Smart TV',\n",
    "    'LG', 'TCL', 'TV', 'OLLZ', 'Pukka', 'Power Banks', 'Cables', 'Magsafe', 'Cover', 'Cases',\n",
    "    'Chargers', 'AirTag', 'Grips', 'Handles', 'Audio', 'Screen Protectors', 'Car Accessories', 'Smart Home',\n",
    "    'TP link', 'D-link', 'Cards', 'Amazon', 'Playstation', 'Xbox', 'PUBG', 'Blizzard', 'Roblox'\n",
    "]"
   ]
  },
  {
   "cell_type": "markdown",
   "id": "b3be4d6d",
   "metadata": {},
   "source": [
    "### Xcite Crawl"
   ]
  },
  {
   "cell_type": "code",
   "execution_count": null,
   "id": "d0c21bfb",
   "metadata": {},
   "outputs": [],
   "source": [
    "# Menu links\n",
    "\n",
    "Xcite_category_list = [\n",
    "    'Computers & Tablets',\n",
    "    'Phones & Personal Audio',\n",
    "    'Gift Cards',\n",
    "    'TVs, Home Theaters & Projectors',\n",
    "    'Gaming'\n",
    "]\n",
    "\n",
    "Xcite_links = Xcite_menu_crawl(Xcite_URL, Xcite_category_list)"
   ]
  },
  {
   "cell_type": "code",
   "execution_count": null,
   "id": "97afb8fd",
   "metadata": {
    "scrolled": true
   },
   "outputs": [],
   "source": [
    "# Cemetary creation <BIG PC LOAD - RUN ONLY WHEN NECESSARY>\n",
    "\n",
    "# Timestamp\n",
    "date_scraped = date.today().strftime(\"%Y/%m/%d\")\n",
    "\n",
    "# Xcite cemetary creation\n",
    "Xcite_cemetary = Xcite_link_crawl(Xcite_links)"
   ]
  },
  {
   "cell_type": "code",
   "execution_count": null,
   "id": "383e90f5",
   "metadata": {},
   "outputs": [],
   "source": [
    "# Xcite product catalog\n",
    "Xcite_product_dictionary = Xcite_cemetary_product_parse(Xcite_cemetary)"
   ]
  },
  {
   "cell_type": "code",
   "execution_count": null,
   "id": "f7d3b7f1",
   "metadata": {},
   "outputs": [],
   "source": [
    "# Instantiation into DataFrame\n",
    "\n",
    "Xcite_product_df = pd.DataFrame.from_dict(Xcite_product_dictionary, orient='index').reset_index()\n",
    "Xcite_product_df.columns = ['product_name'] + Xcite_product_df.columns.to_list()[1:]"
   ]
  },
  {
   "cell_type": "code",
   "execution_count": null,
   "id": "813bdb8e",
   "metadata": {},
   "outputs": [],
   "source": [
    "# Timestamp dataframe\n",
    "\n",
    "Xcite_product_df['date_scraped'] = date_scraped"
   ]
  },
  {
   "cell_type": "code",
   "execution_count": null,
   "id": "ab5be2b6",
   "metadata": {},
   "outputs": [],
   "source": [
    "# Export to excel\n",
    "\n",
    "Xcite_product_df.to_excel(f\"Product_Catalog_Outputs\\Xcite_product_catalog_{date.today().strftime('%Y_%m_%d')}.xlsx\", index=True)"
   ]
  },
  {
   "cell_type": "markdown",
   "id": "61f4087a",
   "metadata": {},
   "source": [
    "### Blink Crawl"
   ]
  },
  {
   "cell_type": "code",
   "execution_count": null,
   "id": "584f5c10",
   "metadata": {},
   "outputs": [],
   "source": [
    "# Menu links\n",
    "\n",
    "Blink_category_list = [\n",
    "    'Apple Products',\n",
    "    'Mobile & Accessories',\n",
    "    'Gift Cards',\n",
    "    'Computers & Tablets',\n",
    "    'Electronics',\n",
    "    'Gaming PC',\n",
    "    'Gaming Console'\n",
    "]\n",
    "\n",
    "\n",
    "Blink_category_list_link = [\n",
    "    'apple-products',\n",
    "    'mobile-accessories',\n",
    "    'digital-cards',\n",
    "    'computers',\n",
    "    'home-electronics',\n",
    "    'gaming-pc',\n",
    "    'gaming-console'\n",
    "]\n",
    "\n",
    "Blink_links = blink_menu_crawl(Blink_URL, Blink_category_list)\n",
    "\n",
    "# Blink links filtered by blink condition list\n",
    "Blink_links_filtered = list(set(filter_blink(Blink_links,Blink_category_list_link)))"
   ]
  },
  {
   "cell_type": "code",
   "execution_count": null,
   "id": "9e6ce129",
   "metadata": {
    "scrolled": true
   },
   "outputs": [],
   "source": [
    "# Cemetary creation <BIG PC LOAD - RUN ONLY WHEN NECESSARY>\n",
    "\n",
    "# Timestamp\n",
    "date_scraped = date.today().strftime(\"%Y/%m/%d\")\n",
    "\n",
    "Blink_cemetary = blink_link_crawl(Blink_links_filtered)"
   ]
  },
  {
   "cell_type": "code",
   "execution_count": null,
   "id": "c35d167b",
   "metadata": {},
   "outputs": [],
   "source": [
    "# Blink product catalog\n",
    "\n",
    "Blink_product_dictionary = blink_cemetary_product_parse(Blink_cemetary)"
   ]
  },
  {
   "cell_type": "code",
   "execution_count": null,
   "id": "64741eb8",
   "metadata": {},
   "outputs": [],
   "source": [
    "# Instantiation into DataFrame\n",
    "\n",
    "Blink_product_df = pd.DataFrame.from_dict(Blink_product_dictionary, orient='index').reset_index()\n",
    "Blink_product_df.columns = ['product_name'] + Blink_product_df.columns.to_list()[1:]"
   ]
  },
  {
   "cell_type": "code",
   "execution_count": null,
   "id": "26b7a012",
   "metadata": {},
   "outputs": [],
   "source": [
    "# Timestamp dataframe\n",
    "\n",
    "Blink_product_df['date_scraped'] = date_scraped"
   ]
  },
  {
   "cell_type": "code",
   "execution_count": null,
   "id": "078a23ba",
   "metadata": {},
   "outputs": [],
   "source": [
    "# Export to excel\n",
    "\n",
    "Blink_product_df.to_excel(f\"Product_Catalog_Outputs\\Blink_product_catalog_{date.today().strftime('%Y_%m_%d')}.xlsx\", index=True)"
   ]
  },
  {
   "cell_type": "markdown",
   "id": "4f097162",
   "metadata": {},
   "source": [
    "### Best Crawl"
   ]
  },
  {
   "cell_type": "code",
   "execution_count": null,
   "id": "8e4ae678",
   "metadata": {},
   "outputs": [],
   "source": [
    "# Menu links\n",
    "\n",
    "Best_category_list = [\n",
    "    'Panasonic Store',\n",
    "    'Home Entertainment',\n",
    "    'Mobiles',\n",
    "    'Gaming',\n",
    "    'Computers And Tablets',\n",
    "    'Perfume & Watches'\n",
    "]\n",
    "\n",
    "Best_links = best_menu_crawl(BestK_URL, Best_category_list)\n",
    "\n",
    "# Best_links preprocessing\n",
    "for index, HREF in enumerate(Best_links):\n",
    "    if HREF[0] == \"/\":\n",
    "        Best_links[index] = f\"https://best.com.kw/en{Best_links[index]}\"\n",
    "    else:\n",
    "        Best_links[index] = f\"https://best.com.kw/en/{Best_links[index]}\"\n",
    "\n",
    "# Best links filtered by Zain condition list\n",
    "\n",
    "Best_links_filtered = list(set(fd.filter_devices(Best_links, zain_shop_condition_list)))"
   ]
  },
  {
   "cell_type": "code",
   "execution_count": null,
   "id": "4668d2b3",
   "metadata": {},
   "outputs": [],
   "source": [
    "# Cemetary creation <BIG PC LOAD - RUN ONLY WHEN NECESSARY>\n",
    "\n",
    "# Timestamp\n",
    "date_scraped = date.today().strftime(\"%Y/%m/%d\")\n",
    "\n",
    "Best_cemetary = best_link_crawl(Best_links_filtered)"
   ]
  },
  {
   "cell_type": "code",
   "execution_count": null,
   "id": "c9f2da22",
   "metadata": {},
   "outputs": [],
   "source": [
    "# Blink product catalog\n",
    "\n",
    "Best_product_dictionary = best_cemetary_product_parse(Best_cemetary)"
   ]
  },
  {
   "cell_type": "code",
   "execution_count": null,
   "id": "82716963",
   "metadata": {},
   "outputs": [],
   "source": [
    "# Instantiation into DataFrame\n",
    "\n",
    "Best_product_df = pd.DataFrame.from_dict(Best_product_dictionary, orient='index').reset_index()\n",
    "Best_product_df.columns = ['product_name'] + Best_product_df.columns.to_list()[1:]"
   ]
  },
  {
   "cell_type": "code",
   "execution_count": null,
   "id": "1ddfc043",
   "metadata": {},
   "outputs": [],
   "source": [
    "# Timestamp dataframe\n",
    "\n",
    "Best_product_df['date_scraped'] = date_scraped"
   ]
  },
  {
   "cell_type": "code",
   "execution_count": null,
   "id": "68b9f261",
   "metadata": {},
   "outputs": [],
   "source": [
    "# Export to excel\n",
    "\n",
    "Best_product_df.to_excel(f\"Product_Catalog_Outputs\\Best_product_catalog_{date.today().strftime('%Y_%m_%d')}.xlsx\", index=True)"
   ]
  },
  {
   "cell_type": "markdown",
   "id": "e6bd0889",
   "metadata": {},
   "source": [
    "### Zain Crawl"
   ]
  },
  {
   "cell_type": "code",
   "execution_count": null,
   "id": "afebcf36",
   "metadata": {},
   "outputs": [],
   "source": [
    "# Menu links\n",
    "\n",
    "Zain_links = zain_menu_crawl(ZainS_URL)\n",
    "\n",
    "# Manually include e-cards\n",
    "\n",
    "Zain_links.append(\"https://www.kw.zain.com/en/shop/e-cards\")"
   ]
  },
  {
   "cell_type": "code",
   "execution_count": null,
   "id": "b31ed678",
   "metadata": {},
   "outputs": [],
   "source": [
    "# Cemetary creation <BIG PC LOAD - RUN ONLY WHEN NECESSARY>\n",
    "\n",
    "# Timestamp\n",
    "date_scraped = date.today().strftime(\"%Y/%m/%d\")\n",
    "\n",
    "Zain_cemetary = Zain_link_crawl(Zain_links)"
   ]
  },
  {
   "cell_type": "code",
   "execution_count": null,
   "id": "483b21f1",
   "metadata": {},
   "outputs": [],
   "source": [
    "# Product catalog\n",
    "\n",
    "Zain_product_dictionary = Zain_cemetary_product_parse(Zain_cemetary)"
   ]
  },
  {
   "cell_type": "code",
   "execution_count": null,
   "id": "9dd769dd",
   "metadata": {},
   "outputs": [],
   "source": [
    "# Instantiation into DataFrame\n",
    "\n",
    "Zain_product_df = pd.DataFrame.from_dict(Zain_product_dictionary, orient='index').reset_index()\n",
    "Zain_product_df.columns = ['product_name'] + Zain_product_df.columns.to_list()[1:]"
   ]
  },
  {
   "cell_type": "code",
   "execution_count": null,
   "id": "2258cb58",
   "metadata": {},
   "outputs": [],
   "source": [
    "# Timestamp dataframe\n",
    "\n",
    "Zain_product_df['date_scraped'] = date_scraped"
   ]
  },
  {
   "cell_type": "code",
   "execution_count": null,
   "id": "44a3305e",
   "metadata": {},
   "outputs": [],
   "source": [
    "# Export to excel\n",
    "\n",
    "Zain_product_df.to_excel(f\"Product_Catalog_Outputs\\Zain_product_catalog_{date.today().strftime('%Y_%m_%d')}.xlsx\", index=True)"
   ]
  },
  {
   "cell_type": "markdown",
   "id": "7ed3b160",
   "metadata": {},
   "source": [
    "#### Zain Data Enrichment"
   ]
  },
  {
   "cell_type": "code",
   "execution_count": null,
   "id": "cb0b7c33",
   "metadata": {},
   "outputs": [],
   "source": [
    "Zain_product_links = Zain_product_df['product_link'].to_list()"
   ]
  },
  {
   "cell_type": "code",
   "execution_count": null,
   "id": "cb72070a",
   "metadata": {},
   "outputs": [],
   "source": []
  },
  {
   "cell_type": "markdown",
   "id": "753f15c9",
   "metadata": {},
   "source": [
    "### Gait Crawl"
   ]
  },
  {
   "cell_type": "code",
   "execution_count": 35,
   "id": "9fdb131d",
   "metadata": {},
   "outputs": [],
   "source": [
    "# Menu links\n",
    "\n",
    "Gait_links = Gait_menu_crawl(GaitS_URL)"
   ]
  },
  {
   "cell_type": "code",
   "execution_count": 36,
   "id": "6f482924",
   "metadata": {},
   "outputs": [
    {
     "name": "stdout",
     "output_type": "stream",
     "text": [
      "Generated 8 chunks\n",
      "https://gait.com.kw/g_kw_en/accessories page end detected\n",
      "Generated 1 chunks\n",
      "https://gait.com.kw/g_kw_en/ipad page end detected\n",
      "Generated 1 chunks\n",
      "https://gait.com.kw/g_kw_en/music page end detected\n",
      "Generated 1 chunks\n",
      "https://gait.com.kw/g_kw_en/special-deals page end detected\n",
      "Generated 1 chunks\n",
      "https://gait.com.kw/g_kw_en/airpods-airpodspro page end detected\n",
      "Generated 1 chunks\n",
      "https://gait.com.kw/g_kw_en/mac page end detected\n",
      "Generated 1 chunks\n",
      "https://gait.com.kw/g_kw_en/applewatch page end detected\n",
      "Generated 4 chunks\n",
      "https://gait.com.kw/g_kw_en/iphone page end detected\n",
      "Generated 1 chunks\n",
      "https://gait.com.kw/g_kw_en/tv page end detected\n"
     ]
    }
   ],
   "source": [
    "# Cemetary creation <BIG PC LOAD - RUN ONLY WHEN NECESSARY>\n",
    "\n",
    "# Timestamp\n",
    "date_scraped = date.today().strftime(\"%Y/%m/%d\")\n",
    "\n",
    "Gait_cemetary = Gait_link_crawl(Gait_links)"
   ]
  },
  {
   "cell_type": "code",
   "execution_count": 37,
   "id": "18bd10e9",
   "metadata": {},
   "outputs": [],
   "source": [
    "# Product catalog\n",
    "\n",
    "Gait_product_dictionary = Gait_cemetary_product_parse(Gait_cemetary)"
   ]
  },
  {
   "cell_type": "code",
   "execution_count": 39,
   "id": "305d617e",
   "metadata": {},
   "outputs": [],
   "source": [
    "# Instantiation into DataFrame\n",
    "\n",
    "Gait_product_df = pd.DataFrame.from_dict(Gait_product_dictionary, orient='index').reset_index()\n",
    "Gait_product_df.columns = ['product_name'] + Gait_product_df.columns.to_list()[1:]"
   ]
  },
  {
   "cell_type": "code",
   "execution_count": 40,
   "id": "773c548f",
   "metadata": {},
   "outputs": [],
   "source": [
    "# Timestamp dataframe\n",
    "\n",
    "Gait_product_df['date_scraped'] = date_scraped"
   ]
  },
  {
   "cell_type": "code",
   "execution_count": 42,
   "id": "7c038fdd",
   "metadata": {},
   "outputs": [
    {
     "data": {
      "text/plain": [
       "0       https://gait.com.kw/g_kw_en/giiga-iphone-14-bu...\n",
       "1       https://gait.com.kw/g_kw_en/giiga-iphone-14-pl...\n",
       "2       https://gait.com.kw/g_kw_en/giiga-iphone-14-pr...\n",
       "3       https://gait.com.kw/g_kw_en/giiga-iphone-14-pr...\n",
       "4       https://gait.com.kw/g_kw_en/earpods-with-light...\n",
       "                              ...                        \n",
       "2024    https://gait.com.kw/g_kw_en/apple-tv-4k-wi-fi-...\n",
       "2025    https://gait.com.kw/g_kw_en/elago-r4-apple-tv-...\n",
       "2026    https://gait.com.kw/g_kw_en/elago-r1-intelli-c...\n",
       "2027    https://gait.com.kw/g_kw_en/elago-r4-retro-app...\n",
       "2028    https://gait.com.kw/g_kw_en/elago-r4-apple-tv-...\n",
       "Name: product_link, Length: 2029, dtype: object"
      ]
     },
     "execution_count": 42,
     "metadata": {},
     "output_type": "execute_result"
    }
   ],
   "source": [
    "Gait_product_df['product_link']"
   ]
  },
  {
   "cell_type": "code",
   "execution_count": null,
   "id": "1ccb1eaf",
   "metadata": {},
   "outputs": [],
   "source": [
    "# Export to excel\n",
    "\n",
    "Gait_product_df.to_excel(f\"Product_Catalog_Outputs\\Gait_product_catalog_{date.today().strftime('%Y_%m_%d')}.xlsx\", index=True)"
   ]
  },
  {
   "cell_type": "markdown",
   "id": "0df35ae8",
   "metadata": {},
   "source": [
    "### i2 Crawl"
   ]
  },
  {
   "cell_type": "code",
   "execution_count": null,
   "id": "d78980d6",
   "metadata": {},
   "outputs": [],
   "source": [
    "# Menu links\n",
    "\n",
    "i2_category_list = [\n",
    "    'SmartPhones',\n",
    "    'Laptops',\n",
    "    'Tablets',\n",
    "    'Wearables',\n",
    "    'Accessories',\n",
    "    'Audios',\n",
    "    'Clearance'\n",
    "]\n",
    "\n",
    "i2_links = i2_menu_crawl(i2_URL, i2_category_list)"
   ]
  },
  {
   "cell_type": "code",
   "execution_count": null,
   "id": "14e7c6de",
   "metadata": {},
   "outputs": [],
   "source": [
    "# Cemetary creation <BIG PC LOAD - RUN ONLY WHEN NECESSARY>\n",
    "\n",
    "# Timestamp\n",
    "date_scraped = date.today().strftime(\"%Y/%m/%d\")\n",
    "\n",
    "i2_cemetary = i2_link_crawl(i2_links)"
   ]
  },
  {
   "cell_type": "code",
   "execution_count": null,
   "id": "afb9700c",
   "metadata": {},
   "outputs": [],
   "source": [
    "# Product catalog\n",
    "\n",
    "i2_product_dictionary = i2_cemetary_product_parse(i2_cemetary)"
   ]
  },
  {
   "cell_type": "code",
   "execution_count": null,
   "id": "794d226d",
   "metadata": {},
   "outputs": [],
   "source": [
    "# Instantiation into DataFrame\n",
    "\n",
    "i2_product_df = pd.DataFrame.from_dict(i2_product_dictionary, orient='index').reset_index()\n",
    "i2_product_df.columns = ['product_name'] + i2_product_df.columns.to_list()[1:]"
   ]
  },
  {
   "cell_type": "code",
   "execution_count": null,
   "id": "f58c1738",
   "metadata": {},
   "outputs": [],
   "source": [
    "# Timestamp dataframe\n",
    "\n",
    "i2_product_df['date_scraped'] = date_scraped"
   ]
  },
  {
   "cell_type": "code",
   "execution_count": null,
   "id": "66d7a40b",
   "metadata": {},
   "outputs": [],
   "source": [
    "# Export to excel\n",
    "\n",
    "i2_product_df.to_excel(f\"Product_Catalog_Outputs\\i2_product_catalog_{date.today().strftime('%Y_%m_%d')}.xlsx\", index=True)"
   ]
  },
  {
   "cell_type": "markdown",
   "id": "e4ccc6f0",
   "metadata": {},
   "source": [
    "### Switch Crawl"
   ]
  },
  {
   "cell_type": "code",
   "execution_count": null,
   "id": "329c3733",
   "metadata": {},
   "outputs": [],
   "source": [
    "# Menu links\n",
    "\n",
    "switch_category_list = [\n",
    "    ' Smartphones ',\n",
    "    ' Tablets ',\n",
    "    ' Wearables ',\n",
    "    ' Accessories ',\n",
    "    ' TVs and Audio ',\n",
    "    ' Gaming ',\n",
    "    ' Computers and IT '\n",
    "]\n",
    "\n",
    "switch_links = span_crawl_text(Switch_URL, switch_category_list)"
   ]
  },
  {
   "cell_type": "code",
   "execution_count": null,
   "id": "0a7eacab",
   "metadata": {},
   "outputs": [],
   "source": [
    "# Cemetary creation <BIG PC LOAD - RUN ONLY WHEN NECESSARY>\n",
    "\n",
    "# Timestamp\n",
    "date_scraped = date.today().strftime(\"%Y/%m/%d\")\n",
    "\n",
    "switch_cemetary = switch_link_crawl(switch_links)"
   ]
  },
  {
   "cell_type": "code",
   "execution_count": null,
   "id": "715be10f",
   "metadata": {},
   "outputs": [],
   "source": [
    "# Product catalog\n",
    "\n",
    "switch_product_dictionary = switch_cemetary_product_parse(switch_cemetary)"
   ]
  },
  {
   "cell_type": "code",
   "execution_count": null,
   "id": "cf864bed",
   "metadata": {},
   "outputs": [],
   "source": [
    "# Instantiation into DataFrame\n",
    "\n",
    "switch_product_df = pd.DataFrame.from_dict(switch_product_dictionary, orient='index').reset_index()\n",
    "switch_product_df.columns = ['product_name'] + switch_product_df.columns.to_list()[1:]"
   ]
  },
  {
   "cell_type": "code",
   "execution_count": null,
   "id": "46463c87",
   "metadata": {},
   "outputs": [],
   "source": [
    "# Timestamp dataframe\n",
    "\n",
    "switch_product_df['date_scraped'] = date_scraped"
   ]
  },
  {
   "cell_type": "code",
   "execution_count": null,
   "id": "f292f002",
   "metadata": {},
   "outputs": [],
   "source": [
    "# Export to excel\n",
    "\n",
    "switch_product_df.to_excel(f\"Product_Catalog_Outputs\\switch_product_catalog_{date.today().strftime('%Y_%m_%d')}.xlsx\", index=True)"
   ]
  },
  {
   "cell_type": "markdown",
   "id": "8f87e7ba",
   "metadata": {},
   "source": [
    "### Ooredoo Crawl"
   ]
  },
  {
   "cell_type": "code",
   "execution_count": 8,
   "id": "9249bedf",
   "metadata": {},
   "outputs": [],
   "source": [
    "# Create grave list\n",
    "\n",
    "# Timestamp\n",
    "date_scraped = date.today().strftime(\"%Y/%m/%d\")\n",
    "\n",
    "ooredoo_graves = ooredoo_grave_list(Ooredoo_URL)"
   ]
  },
  {
   "cell_type": "code",
   "execution_count": 9,
   "id": "399aa5ec",
   "metadata": {},
   "outputs": [],
   "source": [
    "# Rip product links\n",
    "\n",
    "ooredoo_product_links = ooredoo_rip_links(Ooredoo_URL)"
   ]
  },
  {
   "cell_type": "code",
   "execution_count": 15,
   "id": "f7120234",
   "metadata": {},
   "outputs": [],
   "source": [
    "# Product catalog\n",
    "\n",
    "ooredoo_product_dictionary = ooredoo_grave_product_parse(ooredoo_graves)"
   ]
  },
  {
   "cell_type": "code",
   "execution_count": 16,
   "id": "960909bd",
   "metadata": {},
   "outputs": [],
   "source": [
    "# Product catalog zip ripped links\n",
    "\n",
    "ooredoo_product_dictionary = ooredoo_link_rip_zip(ooredoo_product_links, ooredoo_product_dictionary)"
   ]
  },
  {
   "cell_type": "code",
   "execution_count": 17,
   "id": "f650fc9b",
   "metadata": {
    "scrolled": true
   },
   "outputs": [
    {
     "name": "stderr",
     "output_type": "stream",
     "text": [
      "[WDM] - Downloading: 100%|███████████████████████████████████████████████████████████████████████| 6.30M/6.30M [00:01<00:00, 5.31MB/s]\n"
     ]
    },
    {
     "name": "stdout",
     "output_type": "stream",
     "text": [
      "Successfully enhanced: Samsung A14 128GB 5G\n",
      "Successfully enhanced: Samsung A34 128GB 5G\n",
      "Successfully enhanced: Samsung Galaxy A13\n",
      "Successfully enhanced: Apple iPhone 14\n",
      "Successfully enhanced: Apple iPhone 14 Plus\n",
      "Successfully enhanced: Samsung Galaxy S23 5G\n",
      "Successfully enhanced: Samsung Galaxy S23 Plus 5G\n",
      "Successfully enhanced: Samsung Galaxy S23 Ultra\n",
      "Successfully enhanced: 5G 500GB SIM Plan\n",
      "Successfully enhanced: Nintendo Switch OLED\n",
      "Successfully enhanced: PlayStation 5- Console\n",
      "Successfully enhanced: 2 SIMS Unlimited Internet\n",
      "Successfully enhanced: 5G Unlimited with Free Router\n",
      "Successfully enhanced: 5G ProPing Unlimited Plan\n",
      "Successfully enhanced: 5G Internet with 5G ZTE Router\n",
      "Successfully enhanced: 5G Internet with CPE Pro 5 Router\n",
      "Successfully enhanced: HTC VIVE Flow 5G VR Glasses\n",
      "Successfully enhanced: 5G Internet with ZTE Router\n",
      "Successfully enhanced: 5G Unlimited with 2 MiFi Routers\n",
      "Successfully enhanced: Apple MacBook Air  M2-Chip\n",
      "Successfully enhanced: Apple MacBook Pro 13\" M2-Chip\n",
      "Successfully enhanced: 5G Unlimited Internet Special\n",
      "Successfully enhanced: Apple iPhone 14 Pro Max\n",
      "Successfully enhanced: iPad 10.9  WiFi 2022\n",
      "Successfully enhanced: 5G Unlimited Internet for Home\n",
      "Successfully enhanced: Apple iPhone 13 Mini\n",
      "Successfully enhanced: Apple iPhone 13\n",
      "Successfully enhanced: iPad Pro 11\"  WiFi  2022\n",
      "Successfully enhanced: Apple iPhone 13 Pro\n",
      "Successfully enhanced: Playstation 5 - Digital\n",
      "Successfully enhanced: Samsung A54 5G\n",
      "Successfully enhanced: Apple iPhone 13 Pro Max\n",
      "Successfully enhanced: iPad Pro 12.9\"  WIFI  2022\n",
      "Successfully enhanced: Samsung Watch 5\n",
      "Successfully enhanced: Samsung Watch 5 Pro\n",
      "Successfully enhanced: Apple AirPods (3rd Generation)\n",
      "Successfully enhanced: Apple AirPods 3 with Lightning Case\n",
      "Successfully enhanced: Apple AirPods Pro 2\n",
      "Successfully enhanced: Apple AirPods Pro with MagSafe Case\n",
      "Successfully enhanced: Apple Watch Series 8 Cellular\n",
      "Successfully enhanced: Honor X9A\n",
      "Successfully enhanced: LG UHD 4K OLED Smart\n",
      "Successfully enhanced: One Plus Nord CE3 Lite 5G\n",
      "Successfully enhanced: Samsung FLAT UHD 4K Smart TV 2021\n",
      "Successfully enhanced: Samsung Galaxy Z Flip 4\n",
      "Successfully enhanced: Samsung Galaxy Z Fold 4\n",
      "Successfully enhanced: Apple AirTag\n",
      "Successfully enhanced: Apple iMac - 24 inch 7-core GPU\n",
      "Successfully enhanced: Apple iMac - 24 inch 8-core GPU\n",
      "Successfully enhanced: Apple iPhone SE 5G\n",
      "Successfully enhanced: Apple MacBook Pro 14\"\n",
      "Successfully enhanced: Apple Watch Series 7\n",
      "Successfully enhanced: DJI Air 2S Combo\n",
      "Successfully enhanced: DJI Drones Mini SE Compo\n",
      "Successfully enhanced: DJI Dual Screen Combo Camera Action 2\n",
      "Successfully enhanced: DJI Mavic Air 2 Combo\n",
      "Successfully enhanced: DJI Mavic Air 3 Combo\n",
      "Successfully enhanced: DJI Mini Air 2 Combo\n",
      "Successfully enhanced: Honor 50 5G\n",
      "Successfully enhanced: Honor 70 5G\n",
      "Successfully enhanced: Honor X8 5G\n",
      "Successfully enhanced: Honor X9 5G\n",
      "Successfully enhanced: HP Elite Dragonfly Notebook PC G2\n",
      "Successfully enhanced: HP ProBook 440 G8 Notebook\n",
      "Successfully enhanced: Huawei FreeBuds Pro\n",
      "Successfully enhanced: Huawei Watch 3 Series\n",
      "Successfully enhanced: iPhone 12 Pro Max Clear Case with MagSafe\n",
      "Successfully enhanced: iPhone 13 Series Clear Case with MagSafe\n",
      "Successfully enhanced: iPhone 14 Series Clear Case with MagSafe\n",
      "Successfully enhanced: MagSafe Charger\n",
      "Successfully enhanced: Samsung Galaxy S22 5G\n",
      "Successfully enhanced: Samsung Galaxy S22 Plus 5G\n",
      "Successfully enhanced: Samsung Galaxy S22 Ultra 5G\n",
      "Successfully enhanced: Samsung LIFESTYLE QLED 2022\n",
      "Successfully enhanced: Samsung NEO QLED 4K Smart TV 2022\n",
      "Successfully enhanced: Samsung Neo QLED 8K Smart TV 2022\n",
      "Successfully enhanced: Samsung QLED 4K Smart TV  2022\n",
      "Successfully enhanced: Samsung UHD Crystal 4K Smart TV 2022\n",
      "Successfully enhanced: Special 5G Smartphone Offer\n",
      "Successfully enhanced: The Premiere Laser Projector 4K – Free Style\n",
      "Successfully enhanced: Xiaomi Redmi Note 10 5G\n",
      "Successfully enhanced: Xiaomi Redmi Note 9T 5G\n",
      "Successfully enhanced: Apple Airpods Max\n",
      "Successfully enhanced: Apple TV 4K\n",
      "Successfully enhanced: Apple TV 4K  2022\n",
      "Successfully enhanced: Honor Magic4 Pro\n",
      "Successfully enhanced: HP ZBook Firefly 14\" G8 Mobile Workstation PC\n",
      "Successfully enhanced: OnePlus Nord CE 5G\n",
      "Successfully enhanced: Apple AirTag Loop\n",
      "Successfully enhanced: Hisense 50\" UHD Smart TV\n",
      "Successfully enhanced: HP Smart Tank 615 Wireless AiO\n",
      "Successfully enhanced: One Plus Nord CE2\n",
      "Successfully enhanced: PS5 HD Camera\n",
      "Successfully enhanced: Apple Watch Ultra Cellular\n",
      "Successfully enhanced: Arlo Pro 2\n",
      "Successfully enhanced: Hisense 58\" UHD Smart TV\n",
      "Successfully enhanced: One Plus 10 Pro\n",
      "Successfully enhanced: PS5 DualSense Charging Station\n",
      "Successfully enhanced: PS5 Media Remote\n",
      "Successfully enhanced: Samsung Tab S7\n",
      "Successfully enhanced: Dual Sense Wireless Controller\n",
      "Successfully enhanced: Hisense 75\" UHD Smart TV\n",
      "Successfully enhanced: iPad Air 2022 Cellular\n",
      "Successfully enhanced: iPad Air 2022 WiFi\n",
      "Successfully enhanced: Apple AirTag Leather Key Ring\n",
      "Successfully enhanced: HP Monitor P24 G4 24 FHD\n",
      "Successfully enhanced: iPad Pro 11\"  WiFi  2021\n",
      "Successfully enhanced: iPad Pro 12.9\"  Cellular  2021\n",
      "Successfully enhanced: Pulse 3D Wireless Headset\n",
      "Successfully enhanced: Apple MacBook Pro 16\" - 16GB / 1TB\n",
      "Successfully enhanced: iPad 10.2  WiFi 2021\n",
      "Successfully enhanced: LIAN LI Lancool III RGB Mid Tower Gaming Case\n",
      "Successfully enhanced: Lian LI O11D EVO Mid Tower Case\n",
      "Successfully enhanced: Samsung Galaxy Z Fold3\n",
      "Successfully enhanced: HP Color LaserJet Pro MFP M283fdw\n",
      "Successfully enhanced: HP OfficeJet Pro 9023 All-in-One Printer\n",
      "Successfully enhanced: Samsung A22 5G\n",
      "Successfully enhanced: Samsung Galaxy A23\n"
     ]
    },
    {
     "ename": "WebDriverException",
     "evalue": "Message: disconnected: Unable to receive message from renderer\n  (failed to check if window was closed: disconnected: not connected to DevTools)\n  (Session info: chrome=114.0.5735.134)\n",
     "output_type": "error",
     "traceback": [
      "\u001b[1;31m---------------------------------------------------------------------------\u001b[0m",
      "\u001b[1;31mWebDriverException\u001b[0m                        Traceback (most recent call last)",
      "Cell \u001b[1;32mIn[17], line 3\u001b[0m\n\u001b[0;32m      1\u001b[0m \u001b[38;5;66;03m# Data enrichment\u001b[39;00m\n\u001b[1;32m----> 3\u001b[0m ooredoo_product_dictionary \u001b[38;5;241m=\u001b[39m \u001b[43mooredoo_enhance_dictionary\u001b[49m\u001b[43m(\u001b[49m\u001b[43mooredoo_product_dictionary\u001b[49m\u001b[43m)\u001b[49m\n",
      "File \u001b[1;32m~\\%Zain\\Webcrawl\\Web_Crawler\\Scraping_Scripts\\Ooredoo_functions.py:207\u001b[0m, in \u001b[0;36mooredoo_enhance_dictionary\u001b[1;34m(product_dictionary)\u001b[0m\n\u001b[0;32m    205\u001b[0m opts\u001b[38;5;241m.\u001b[39madd_argument(\u001b[38;5;124m\"\u001b[39m\u001b[38;5;124m--start-maximized\u001b[39m\u001b[38;5;124m\"\u001b[39m)\n\u001b[0;32m    206\u001b[0m driver \u001b[38;5;241m=\u001b[39m webdriver\u001b[38;5;241m.\u001b[39mChrome(ChromeDriverManager()\u001b[38;5;241m.\u001b[39minstall(), options\u001b[38;5;241m=\u001b[39mopts)\n\u001b[1;32m--> 207\u001b[0m \u001b[43mdriver\u001b[49m\u001b[38;5;241;43m.\u001b[39;49m\u001b[43mget\u001b[49m\u001b[43m(\u001b[49m\u001b[43mproduct_dictionary\u001b[49m\u001b[43m[\u001b[49m\u001b[43mproduct\u001b[49m\u001b[43m]\u001b[49m\u001b[43m[\u001b[49m\u001b[38;5;124;43m'\u001b[39;49m\u001b[38;5;124;43mproduct_link\u001b[39;49m\u001b[38;5;124;43m'\u001b[39;49m\u001b[43m]\u001b[49m\u001b[43m)\u001b[49m\n\u001b[0;32m    208\u001b[0m time\u001b[38;5;241m.\u001b[39msleep(\u001b[38;5;241m5\u001b[39m)\n\u001b[0;32m    210\u001b[0m \u001b[38;5;28;01mtry\u001b[39;00m:\n\u001b[0;32m    211\u001b[0m     \u001b[38;5;66;03m# Check page type\u001b[39;00m\n",
      "File \u001b[1;32m~\\anaconda3\\lib\\site-packages\\selenium\\webdriver\\remote\\webdriver.py:333\u001b[0m, in \u001b[0;36mWebDriver.get\u001b[1;34m(self, url)\u001b[0m\n\u001b[0;32m    329\u001b[0m \u001b[38;5;28;01mdef\u001b[39;00m \u001b[38;5;21mget\u001b[39m(\u001b[38;5;28mself\u001b[39m, url):\n\u001b[0;32m    330\u001b[0m     \u001b[38;5;124;03m\"\"\"\u001b[39;00m\n\u001b[0;32m    331\u001b[0m \u001b[38;5;124;03m    Loads a web page in the current browser session.\u001b[39;00m\n\u001b[0;32m    332\u001b[0m \u001b[38;5;124;03m    \"\"\"\u001b[39;00m\n\u001b[1;32m--> 333\u001b[0m     \u001b[38;5;28;43mself\u001b[39;49m\u001b[38;5;241;43m.\u001b[39;49m\u001b[43mexecute\u001b[49m\u001b[43m(\u001b[49m\u001b[43mCommand\u001b[49m\u001b[38;5;241;43m.\u001b[39;49m\u001b[43mGET\u001b[49m\u001b[43m,\u001b[49m\u001b[43m \u001b[49m\u001b[43m{\u001b[49m\u001b[38;5;124;43m'\u001b[39;49m\u001b[38;5;124;43murl\u001b[39;49m\u001b[38;5;124;43m'\u001b[39;49m\u001b[43m:\u001b[49m\u001b[43m \u001b[49m\u001b[43murl\u001b[49m\u001b[43m}\u001b[49m\u001b[43m)\u001b[49m\n",
      "File \u001b[1;32m~\\anaconda3\\lib\\site-packages\\selenium\\webdriver\\remote\\webdriver.py:321\u001b[0m, in \u001b[0;36mWebDriver.execute\u001b[1;34m(self, driver_command, params)\u001b[0m\n\u001b[0;32m    319\u001b[0m response \u001b[38;5;241m=\u001b[39m \u001b[38;5;28mself\u001b[39m\u001b[38;5;241m.\u001b[39mcommand_executor\u001b[38;5;241m.\u001b[39mexecute(driver_command, params)\n\u001b[0;32m    320\u001b[0m \u001b[38;5;28;01mif\u001b[39;00m response:\n\u001b[1;32m--> 321\u001b[0m     \u001b[38;5;28;43mself\u001b[39;49m\u001b[38;5;241;43m.\u001b[39;49m\u001b[43merror_handler\u001b[49m\u001b[38;5;241;43m.\u001b[39;49m\u001b[43mcheck_response\u001b[49m\u001b[43m(\u001b[49m\u001b[43mresponse\u001b[49m\u001b[43m)\u001b[49m\n\u001b[0;32m    322\u001b[0m     response[\u001b[38;5;124m'\u001b[39m\u001b[38;5;124mvalue\u001b[39m\u001b[38;5;124m'\u001b[39m] \u001b[38;5;241m=\u001b[39m \u001b[38;5;28mself\u001b[39m\u001b[38;5;241m.\u001b[39m_unwrap_value(\n\u001b[0;32m    323\u001b[0m         response\u001b[38;5;241m.\u001b[39mget(\u001b[38;5;124m'\u001b[39m\u001b[38;5;124mvalue\u001b[39m\u001b[38;5;124m'\u001b[39m, \u001b[38;5;28;01mNone\u001b[39;00m))\n\u001b[0;32m    324\u001b[0m     \u001b[38;5;28;01mreturn\u001b[39;00m response\n",
      "File \u001b[1;32m~\\anaconda3\\lib\\site-packages\\selenium\\webdriver\\remote\\errorhandler.py:242\u001b[0m, in \u001b[0;36mErrorHandler.check_response\u001b[1;34m(self, response)\u001b[0m\n\u001b[0;32m    240\u001b[0m         alert_text \u001b[38;5;241m=\u001b[39m value[\u001b[38;5;124m'\u001b[39m\u001b[38;5;124malert\u001b[39m\u001b[38;5;124m'\u001b[39m]\u001b[38;5;241m.\u001b[39mget(\u001b[38;5;124m'\u001b[39m\u001b[38;5;124mtext\u001b[39m\u001b[38;5;124m'\u001b[39m)\n\u001b[0;32m    241\u001b[0m     \u001b[38;5;28;01mraise\u001b[39;00m exception_class(message, screen, stacktrace, alert_text)\n\u001b[1;32m--> 242\u001b[0m \u001b[38;5;28;01mraise\u001b[39;00m exception_class(message, screen, stacktrace)\n",
      "\u001b[1;31mWebDriverException\u001b[0m: Message: disconnected: Unable to receive message from renderer\n  (failed to check if window was closed: disconnected: not connected to DevTools)\n  (Session info: chrome=114.0.5735.134)\n"
     ]
    }
   ],
   "source": [
    "# Data enrichment\n",
    "\n",
    "ooredoo_product_dictionary = ooredoo_enhance_dictionary(ooredoo_product_dictionary)"
   ]
  },
  {
   "cell_type": "code",
   "execution_count": 19,
   "id": "5a20289a",
   "metadata": {},
   "outputs": [],
   "source": [
    "# Instantiation into DataFrame\n",
    "\n",
    "ooredoo_product_df = pd.DataFrame.from_dict(ooredoo_product_dictionary, orient='index').reset_index()\n",
    "ooredoo_product_df.columns = ['product_name'] + ooredoo_product_df.columns.to_list()[1:]"
   ]
  },
  {
   "cell_type": "code",
   "execution_count": 23,
   "id": "a4f25c89",
   "metadata": {},
   "outputs": [],
   "source": [
    "# Timestamp dataframe\n",
    "\n",
    "ooredoo_product_df['date_scraped'] = date_scraped"
   ]
  },
  {
   "cell_type": "code",
   "execution_count": 24,
   "id": "79dfa988",
   "metadata": {},
   "outputs": [],
   "source": [
    "# Export to excel\n",
    "\n",
    "ooredoo_product_df.to_excel(f\"Product_Catalog_Outputs\\ooredoo_product_catalog_{date.today().strftime('%Y_%m_%d')}.xlsx\", index=True)"
   ]
  },
  {
   "cell_type": "markdown",
   "id": "075d6b2b",
   "metadata": {},
   "source": [
    "### STC Crawl"
   ]
  },
  {
   "cell_type": "code",
   "execution_count": 21,
   "id": "8f4bcad3",
   "metadata": {},
   "outputs": [],
   "source": [
    "def stc_menu_crawl(main_URL) -> list:\n",
    "\n",
    "    try:\n",
    "        # Create driver instance\n",
    "        opts = ChromeOptions()\n",
    "        opts.add_argument(\"--start-maximized\")\n",
    "        driver = webdriver.Chrome(driver_path, options=opts)\n",
    "        driver.get(main_URL)\n",
    "        time.sleep(5)\n",
    "\n",
    "        # STC category links\n",
    "        category_anchors = driver.find_elements_by_xpath(\"//a[text()='See all']\")\n",
    "        \n",
    "        category_links   = [anchor.get_attribute('href') for anchor in category_anchors]\n",
    "        \n",
    "        driver.quit()\n",
    "\n",
    "        return category_links\n",
    "    \n",
    "    except Exception:\n",
    "        print(Exception)"
   ]
  },
  {
   "cell_type": "code",
   "execution_count": 22,
   "id": "c0361a90",
   "metadata": {},
   "outputs": [],
   "source": [
    "# Menu links\n",
    "\n",
    "stc_links = stc_menu_crawl(Stc_URL)"
   ]
  },
  {
   "cell_type": "code",
   "execution_count": 23,
   "id": "34a1f37b",
   "metadata": {},
   "outputs": [
    {
     "data": {
      "text/plain": [
       "['https://www.stc.com.kw/en/e-store/grid/SMARTPHONE',\n",
       " 'https://www.stc.com.kw/en/e-store/grid/TABLET',\n",
       " 'https://www.stc.com.kw/en/e-store/grid/ROUTER',\n",
       " 'https://www.stc.com.kw/en/e-store/grid/GAMINGCONSOLE',\n",
       " 'https://www.stc.com.kw/en/e-store/grid/accessory']"
      ]
     },
     "execution_count": 23,
     "metadata": {},
     "output_type": "execute_result"
    }
   ],
   "source": [
    "stc_links"
   ]
  },
  {
   "cell_type": "code",
   "execution_count": 31,
   "id": "672ca044",
   "metadata": {},
   "outputs": [
    {
     "name": "stdout",
     "output_type": "stream",
     "text": [
      "https://www.stc.com.kw/en/e-store/grid/SMARTPHONE page end detected\n"
     ]
    }
   ],
   "source": [
    "test = stc_grave_list(stc_links[0])"
   ]
  },
  {
   "cell_type": "code",
   "execution_count": 29,
   "id": "58ab683a",
   "metadata": {},
   "outputs": [
    {
     "data": {
      "text/plain": [
       "[]"
      ]
     },
     "execution_count": 29,
     "metadata": {},
     "output_type": "execute_result"
    }
   ],
   "source": [
    "test"
   ]
  },
  {
   "cell_type": "code",
   "execution_count": 27,
   "id": "30d5468c",
   "metadata": {},
   "outputs": [],
   "source": [
    "def stc_grave_list(crawl_URL) -> list:\n",
    "    \n",
    "    try:\n",
    "        # Open page\n",
    "        opts = ChromeOptions()\n",
    "        opts.add_argument(\"--start-maximized\")\n",
    "        driver = webdriver.Chrome(driver_path, options=opts)\n",
    "        driver.get(Stc_URL)\n",
    "        \n",
    "        time.sleep(5)\n",
    "        \n",
    "        # Link page\n",
    "        strip_crawl = crawl_URL.strip('https://www.stc.com.kw')\n",
    "        link = driver.find_element_by_xpath(f\"//a[@href='/{strip_crawl}']\")\n",
    "        link = link.get_attribute('href')\n",
    "        driver.get(link)\n",
    "        \n",
    "        time.sleep(5)\n",
    "        \n",
    "        js_show = \"arguments[0].scrollIntoView({behavior: 'auto', block: 'center', inline: 'center'})\"\n",
    "        js_down = \"window.scrollTo(0, document.body.scrollHeight);\"\n",
    "        js_clik = \"arguments[0].click();\"\n",
    "\n",
    "        # Load more\n",
    "        while True:\n",
    "            try:\n",
    "                driver.execute_script(js_down)\n",
    "                load_more = driver.find_element_by_xpath(\"//button[.//span[contains(text(), 'Load More')]]\")\n",
    "                driver.execute_script(js_clik, load_more)\n",
    "            except Exception as error:\n",
    "                print(f'{crawl_URL} page end detected')\n",
    "                break\n",
    "                \n",
    "        html_content = driver.find_elements_by_xpath(\"//div[contains(@class, 'col-12') and contains(@class, 'col-md-4') and contains(@class, 'col-lg-3')]\")\n",
    "        \n",
    "        time.sleep(5)\n",
    "\n",
    "        # Enhancement --------- FIX THIS\n",
    "        for grave in html_content:\n",
    "            print(BeautifulSoup(grave.get_attribute(\"innerHTML\"),'html.parser').find(lambda tag: tag.name == 'span' and not tag.has_attr('class')).text)\n",
    "            buy_icon = grave.find_element_by_xpath('//span[text()=\"Buy Now\"]')\n",
    "            driver.execute_script(js_show, buy_icon)\n",
    "            time.sleep(2)\n",
    "            buy_icon.click()\n",
    "            time.sleep(2)\n",
    "            driver.get(link)\n",
    "            time.sleep(2)\n",
    "            driver.execute_script(js_clik, load_more)\n",
    "            time.sleep(2)\n",
    "\n",
    "        driver.quit()\n",
    "\n",
    "        return html_content\n",
    "    \n",
    "    except Exception:\n",
    "        print(Exception)"
   ]
  },
  {
   "cell_type": "code",
   "execution_count": 3,
   "id": "ea035d1a",
   "metadata": {},
   "outputs": [
    {
     "ename": "NameError",
     "evalue": "name 'date' is not defined",
     "output_type": "error",
     "traceback": [
      "\u001b[1;31m---------------------------------------------------------------------------\u001b[0m",
      "\u001b[1;31mNameError\u001b[0m                                 Traceback (most recent call last)",
      "Cell \u001b[1;32mIn[3], line 4\u001b[0m\n\u001b[0;32m      1\u001b[0m \u001b[38;5;66;03m# Cemetary creation <BIG PC LOAD - RUN ONLY WHEN NECESSARY>\u001b[39;00m\n\u001b[0;32m      2\u001b[0m \n\u001b[0;32m      3\u001b[0m \u001b[38;5;66;03m# Timestamp\u001b[39;00m\n\u001b[1;32m----> 4\u001b[0m date_scraped \u001b[38;5;241m=\u001b[39m \u001b[43mdate\u001b[49m\u001b[38;5;241m.\u001b[39mtoday()\u001b[38;5;241m.\u001b[39mstrftime(\u001b[38;5;124m\"\u001b[39m\u001b[38;5;124m%\u001b[39m\u001b[38;5;124mY/\u001b[39m\u001b[38;5;124m%\u001b[39m\u001b[38;5;124mm/\u001b[39m\u001b[38;5;132;01m%d\u001b[39;00m\u001b[38;5;124m\"\u001b[39m)\n\u001b[0;32m      6\u001b[0m stc_cemetary \u001b[38;5;241m=\u001b[39m stc_link_crawl(stc_links)\n",
      "\u001b[1;31mNameError\u001b[0m: name 'date' is not defined"
     ]
    }
   ],
   "source": [
    "# Cemetary creation <BIG PC LOAD - RUN ONLY WHEN NECESSARY>\n",
    "\n",
    "# Timestamp\n",
    "date_scraped = date.today().strftime(\"%Y/%m/%d\")\n",
    "\n",
    "stc_cemetary = stc_link_crawl(stc_links)"
   ]
  },
  {
   "cell_type": "code",
   "execution_count": null,
   "id": "0a885243",
   "metadata": {},
   "outputs": [],
   "source": [
    "# Product catalog\n",
    "\n",
    "stc_product_dictionary = stc_cemetary_product_parse(stc_cemetary)"
   ]
  },
  {
   "cell_type": "code",
   "execution_count": null,
   "id": "65f49393",
   "metadata": {},
   "outputs": [],
   "source": [
    "# Instantiation into DataFrame\n",
    "\n",
    "stc_product_df = pd.DataFrame.from_dict(stc_product_dictionary, orient='index').reset_index()\n",
    "stc_product_df.columns = ['product_name'] + stc_product_df.columns.to_list()[1:]"
   ]
  },
  {
   "cell_type": "code",
   "execution_count": null,
   "id": "45bcbec2",
   "metadata": {},
   "outputs": [],
   "source": [
    "# Timestamp dataframe\n",
    "\n",
    "stc_product_df['date_scraped'] = date_scraped"
   ]
  },
  {
   "cell_type": "code",
   "execution_count": null,
   "id": "6704c56a",
   "metadata": {},
   "outputs": [],
   "source": [
    "# Export to excel\n",
    "\n",
    "stc_product_df.to_excel(f\"Product_Catalog_Outputs\\stc_product_catalog_{date.today().strftime('%Y_%m_%d')}.xlsx\", index=True)"
   ]
  },
  {
   "cell_type": "markdown",
   "id": "4b9abedb",
   "metadata": {},
   "source": [
    "# <span style='color:red'>R&D</span>"
   ]
  },
  {
   "cell_type": "code",
   "execution_count": null,
   "id": "6d028f3b",
   "metadata": {},
   "outputs": [],
   "source": []
  },
  {
   "cell_type": "code",
   "execution_count": null,
   "id": "233a91ff",
   "metadata": {},
   "outputs": [],
   "source": []
  },
  {
   "cell_type": "markdown",
   "id": "2a6b74c0",
   "metadata": {},
   "source": [
    "zain deep crawl (data enrichment)"
   ]
  },
  {
   "cell_type": "code",
   "execution_count": null,
   "id": "26393790",
   "metadata": {},
   "outputs": [],
   "source": [
    "# Deep crawler (individual product link visits)\n",
    "\n",
    "opts = ChromeOptions()\n",
    "opts.add_argument(\"--start-maximized\")\n",
    "driver = webdriver.Chrome(ChromeDriverManager().install(), options=opts)\n",
    "\n",
    "driver.get('https://www.kw.zain.com/en/shop/galaxy-a54-')\n",
    "\n",
    "# Ensure english site\n",
    "try:\n",
    "    driver.find_element_by_xpath('//a[text()=\"العربية\"]')\n",
    "except:\n",
    "    english_site = driver.find_element_by_xpath('//a[text()=\"english\"]')\n",
    "    english_site.click()\n",
    "    time.sleep(1)\n",
    "\n",
    "# Click individual tabs\n",
    "size_row   = driver.find_element_by_xpath('//div[contains(@class, \"form-group\") and contains(@class, \"liferay-ddm-form-field-radio\") and contains(@class, \"size\")]//label[text()=\"Size\"]/ancestor::div[1]')\n",
    "label_elements = size_row.find_elements_by_xpath('.//span')\n",
    "for label in label_elements:\n",
    "    try:\n",
    "        print(label.text)\n",
    "        label.click()\n",
    "    except Exception:\n",
    "        print(Exception)\n",
    "\n",
    "color_row  = driver.find_element_by_xpath('//div[contains(@class, \"form-group\") and contains(@class, \"zain-custom-color-form-field-form-field\") and contains(@class, \"color\")]//label[starts-with(text(), \"Color\")]/ancestor::div[1]')\n",
    "\n",
    "\n",
    "cash_deals = driver.find_element_by_xpath('//label[text()=\"Cash Deals🔥\"]')\n",
    "\n",
    "html_content = driver.page_source\n",
    "\n",
    "driver.quit()\n",
    "\n",
    "list_graves = str(BeautifulSoup(html.unescape(html_content), 'html.parser'))"
   ]
  },
  {
   "cell_type": "code",
   "execution_count": null,
   "id": "ad910a2f",
   "metadata": {},
   "outputs": [],
   "source": [
    "list_graves"
   ]
  },
  {
   "cell_type": "code",
   "execution_count": null,
   "id": "7a90bd21",
   "metadata": {},
   "outputs": [],
   "source": [
    "label_list"
   ]
  },
  {
   "cell_type": "code",
   "execution_count": null,
   "id": "16c98224",
   "metadata": {},
   "outputs": [],
   "source": []
  }
 ],
 "metadata": {
  "kernelspec": {
   "display_name": "Python 3 (ipykernel)",
   "language": "python",
   "name": "python3"
  },
  "language_info": {
   "codemirror_mode": {
    "name": "ipython",
    "version": 3
   },
   "file_extension": ".py",
   "mimetype": "text/x-python",
   "name": "python",
   "nbconvert_exporter": "python",
   "pygments_lexer": "ipython3",
   "version": "3.10.9"
  }
 },
 "nbformat": 4,
 "nbformat_minor": 5
}
