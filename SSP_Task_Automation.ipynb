{
 "cells": [
  {
   "cell_type": "code",
   "execution_count": 119,
   "id": "dce7c4fa",
   "metadata": {},
   "outputs": [],
   "source": [
    "import re\n",
    "import time\n",
    "\n",
    "import pandas as pd\n",
    "import numpy as np\n",
    "\n",
    "from bs4 import BeautifulSoup\n",
    "\n",
    "from selenium import webdriver\n",
    "from selenium.webdriver import Chrome, ChromeOptions\n",
    "from selenium.webdriver.chrome.options import Options\n",
    "from webdriver_manager.chrome import ChromeDriverManager\n",
    "from selenium.webdriver.common.action_chains import ActionChains\n",
    "from selenium.common.exceptions import StaleElementReferenceException"
   ]
  },
  {
   "cell_type": "markdown",
   "id": "4c9366d9",
   "metadata": {},
   "source": [
    "Metadata"
   ]
  },
  {
   "cell_type": "code",
   "execution_count": 120,
   "id": "615933d4",
   "metadata": {},
   "outputs": [],
   "source": [
    "driver_path      = 'C:/Users/Sleepwalk/.cache/selenium/chromedriver/win32/114.0.5735.90/chromedriver.exe'"
   ]
  },
  {
   "cell_type": "code",
   "execution_count": 121,
   "id": "897e763c",
   "metadata": {},
   "outputs": [],
   "source": [
    "ssp_path         = \"C:/Users/Sleepwalk/%Zain/Webcrawl/SSP_Task_Automation/SSP-Jun-2023.xlsx\""
   ]
  },
  {
   "cell_type": "code",
   "execution_count": 122,
   "id": "832cb91e",
   "metadata": {},
   "outputs": [],
   "source": [
    "ssp              = pd.read_excel(ssp_path, header=1)"
   ]
  },
  {
   "cell_type": "code",
   "execution_count": 154,
   "id": "7e6ed5be",
   "metadata": {},
   "outputs": [],
   "source": [
    "ssp_item_combine = ssp['Item'].astype(str) + ' | ' + ssp['Description'].astype(str)\n",
    "ssp_item_codes   = ssp_item_combine.to_list()"
   ]
  },
  {
   "cell_type": "code",
   "execution_count": 175,
   "id": "98d6d93a",
   "metadata": {},
   "outputs": [],
   "source": [
    "ssp_item_codes_range = ssp_item_codes[382:543]"
   ]
  },
  {
   "cell_type": "code",
   "execution_count": 124,
   "id": "4a7c0be3",
   "metadata": {},
   "outputs": [],
   "source": [
    "google_url      = \"https://www.google.com/\""
   ]
  },
  {
   "cell_type": "code",
   "execution_count": 161,
   "id": "0dd687a1",
   "metadata": {},
   "outputs": [],
   "source": [
    "condition_list  = [\n",
    "    'xcite.com/', \n",
    "    'gait.com.kw', \n",
    "    'switch.com.kw', \n",
    "    'shopi2.com.kw', \n",
    "    'blink.com.kw', \n",
    "    'best.com.kw'\n",
    "]"
   ]
  },
  {
   "cell_type": "markdown",
   "id": "bd946d8e",
   "metadata": {},
   "source": [
    "Search"
   ]
  },
  {
   "cell_type": "code",
   "execution_count": 194,
   "id": "61582c31",
   "metadata": {},
   "outputs": [
    {
     "data": {
      "text/plain": [
       "['55P735 | TCL 55P735 55\"/UHD/GOOGLE TV/60HZ',\n",
       " 'MK4H3AB/A | 10.2-inch iPad Wi-Fi + Cellular 256GB - Silver',\n",
       " 'MYH42AB/A | 10.9-inch iPad Air Wi-Fi + Cellular 256GB - Silver\\xa0 2020',\n",
       " 'MM723AB/A | 10.9-inch iPad Air Wi-Fi + Cellular 256GB ? Pink (2022)',\n",
       " 'SMA546EZWC | Samsung Galaxy A54 8GB RAM 128GB\\xa0 Awesome White',\n",
       " 'MYGW2AB/A | 10.9-inch iPad Air Wi-Fi + Cellular 64GB - Space Grey 2020',\n",
       " 'MME93AB/A | 10.9-inch iPad Air Wi-Fi + Cellular 64GB ? Purple (2022)',\n",
       " 'MYFW2AB/A | 10.9-inch iPad Air Wi-Fi 256GB - Silver',\n",
       " 'MQ6W3AB/A | 10.9-inch iPad Wi-Fi + Cellular 256GB - Pink',\n",
       " 'MKGR3AB/A | 14-inch MacBook Pro: Apple M1 Pro chip with 8?core CPU and 14?core GPU, 512GB SSD - Silver',\n",
       " 'MNW83AB/A | 16in MBPro Apple M2 Pro chip 12CPU 19GPU 512GB SSD Grey ArEn',\n",
       " 'BS481 | PlayStation 4 Pro',\n",
       " 'SC41PT | Indoor WiFi PTZ Camera with CN adaptor',\n",
       " 'MHWD3AB/A | 11-inch iPad Pro Wi?Fi + Cellular 1TB - Silver - 2021',\n",
       " 'MHQX3AB/A-B1 | 11-inch iPad Pro Wi?Fi 512GB - Silver 2021+Smart Folio Case ( Bundle)',\n",
       " 'MNYH3AB/A | 11-inch iPad Pro Wi-Fi + Cellular 512GB - Silver',\n",
       " 'MNXJ3AB/A | 11-inch iPad Pro Wi-Fi 512GB - Silver-4th Gen',\n",
       " 'MHNN3AB/A | 12.9-inch iPad Pro Wi?Fi 1TB - Silver - 2021',\n",
       " 'MHNM3AB/A | 12.9-inch iPad Pro Wi?Fi 1TB - Space Grey - 2021',\n",
       " 'MNXW3AB/A | 12.9-inch iPad Pro Wi?Fi 1TB - Space Grey-6th Gen',\n",
       " 'MAYADEEN_ID1259_HW1_24 | Auto Target System',\n",
       " 'MAC_ID1103_HW2_OT | Batch 2 PowerEdge R350 Server',\n",
       " 'KIA_ID980_PS2_OT | Bitan Tool (Qty:385) with Installation, Onboard and PS Service',\n",
       " 'SG350-10MP-K9-UK | Cisco SG350-10MP 10-port Gigabit POE Managed Switch',\n",
       " 'ALWAFIR_ID1179_HW3_OT | Cloud Engine S5735-L48P4X-A1',\n",
       " 'MAYADEEN_ID1259_HW2_24 | Control and Training System',\n",
       " 'SM20 | Zigbee Door/Window Sensor',\n",
       " 'DWR932C | D Link DWR 932C MiFi 4G CAT4',\n",
       " 'DWR932M | D Link DWR 932M MiFi 4G CAT4',\n",
       " 'MGPD3AB/A | 24-inch iMac with Retina 4.5K display: Apple M1\\xa0chip with 8?core CPU and 8?core GPU, 512GB - Silver',\n",
       " 'MX532ZE/A | AirTag (1 Pack)',\n",
       " 'MTVU2AE/A | APPLE WATCH S4 44 SG AL BLK SP CEL-AMU',\n",
       " 'MNKQ3AE/A | Apple Watch Series 8 GPS + Cellular 45mm Gold Stainless Steel Case with Gold Milanese Loop',\n",
       " 'DECOP7-3PK | Deco P7 3 Pack',\n",
       " 'KIA_ID980_HW1_OT | Dell ME5012 Storage Array',\n",
       " 'BEHBEHANI_ID1393_HW2_OT | Dell Monitor E2422H - 60.45 cm 23.8 1920 x1080 Resolution Black VGA DP 1Yr WUE',\n",
       " 'BEHBEHANI_ID1393_HW1_OT | Dell OptiPlex 7090 MT MS Win 10 Pro OEM i7-11700 16GB DDR4 non-ECC Memory 500TB SSD DVD RW Dell Keyboard Mouse USB 1yr',\n",
       " 'BA12803BK | E5573 Hotspot Huawei - Black',\n",
       " 'BA12839 | E5573C Hotspot Huawei',\n",
       " 'BA12808 | E5787 Huawei Touch Hotspot',\n",
       " 'LS0BCM100D | Quicklink Curtain Motor Suit (3.2m)',\n",
       " 'LS0BCM100D52 | Quicklink Curtain Motor Suit (5.2m)',\n",
       " 'SMS918BLIW | Samsung Galaxy S23 Ultra Lavender 5G 1TB',\n",
       " '5BL-00039 | Surface Laptop 4 13in i5/8/256CM SC Arabic BH/KW/OM/QA/SA/AE Hdwr Commercial Black',\n",
       " 'ALWAFIR_ID1388_SW1_OT | Exchange Online (Plan 1)',\n",
       " 'KIA_ID980_SW4_OT | Exchange Online (Plan 1)',\n",
       " 'KIA_ID980_SW5_OT | Exchange Online (Plan 2)',\n",
       " 'BNK_ID1480_SW_OT | FG201FT921909110 - COTERM to have end date as 2024-03-06 6 MAR 2022-UTP',\n",
       " 'ALWAFIR_ID1179_HW2_OT | FG-40F with 2 Year UTP IPS Adv Protection App Contrl URL DNS Video Filter Antispam Service Premium',\n",
       " 'FOODBASICS_ID1115_SW_OT | FortiGate-40F 1 Year UTP (IPS, Appl Cntrl, URL, DNS Video Filter, Antispam Service, and FortiCare Premium)',\n",
       " 'ZGS-I51016AG-228 | Gaming PC #228 - Dissent Edition V3',\n",
       " 'MGNA3AB/A | 13-inch MacBook Air: Apple M1 chip with 8-core CPU and 8-core GPU, 512GB - Silver',\n",
       " 'MYD92AB/A | 13-inch MacBook Pro: Apple M1 chip with 8?core CPU and 8?core GPU, 512GB SSD - Space Grey',\n",
       " 'MK1E3AB/A | 16-inch MacBook Pro: Apple M1 Pro chip with 10?core CPU and 16?core GPU, 512GB SSD - Silver',\n",
       " 'MGTF3AB/A | 24-inch iMac with Retina 4.5K display: Apple M1\\xa0chip with 8?core CPU and 7?core GPU, 256GB - Silver',\n",
       " 'MGPC3AB/A | 24-inch iMac with Retina 4.5K display: Apple M1\\xa0chip with 8?core CPU and 8?core GPU, 256GB - Silver',\n",
       " 'ALWAFIR_ID1179_HW1_OT | AirEngine 6761-21 Indoor Access Point',\n",
       " 'MLWK3ZE/A | AirPods Pro',\n",
       " 'MGYM3ZE/A | Apple AirPods Max - Pink',\n",
       " 'MGYJ3ZE/A | Apple AirPods Max - Silver',\n",
       " 'MKNA3AE/A | Apple Watch Nike Series 7 GPS, 45mm Starlight Aluminium Case with Pure Platinum/Black Nike Sport Band - Regular',\n",
       " 'MU6D2AE/A | APPLE WATCH S4 44 SG AL BLK SP GPS-AMU',\n",
       " 'MKMX3AE/A | Apple Watch Series 7 GPS, 41mm Midnight Aluminium Case with Midnight Sport Band - Regular',\n",
       " 'MKMY3AE/A | Apple Watch Series 7 GPS, 41mm Starlight Aluminium Case with Starlight Sport Band - Regular',\n",
       " 'MKN73AE/A | Apple Watch Series 7 GPS, 45mm Green Aluminium Case with Clover Sport Band - Regular',\n",
       " 'MNJ83AE/A | Apple Watch Series 8 GPS + Cellular 41mm Silver Stainless Steel Case with Silver Milanese Loop',\n",
       " 'MNKU3AE/A | Apple Watch Series 8 GPS + Cellular 45mm Graphite Stainless Steel Case with Midnight Sport Band - Regular',\n",
       " 'MNP43AE/A | Apple Watch Series 8 GPS 45mm (PRODUCT)RED Aluminium Case with (PRODUCT)RED Sport Band - Regular',\n",
       " 'ZGS-I51016AG-505 | Gaming PC #505 Zelda Edition',\n",
       " 'ZGS-I51016AG-520 | Gaming PC #520 Maximus Edition',\n",
       " 'ZGS-I51016AG-541 | Gaming PC #541 Admiral Tot Edition',\n",
       " 'ZGS-I51016AG-545 | Gaming PC #545 SniperInstinct Edition',\n",
       " '5109AJBT-B | HONOR 70 5G 8GB RAM + 256GB - MIDNIGHT BLACK + HONOR Watch GS3 - Bundle',\n",
       " '51060DBV | Huawei 5G CPE H112',\n",
       " '51060FRQ | Huawei 5G CPE Win outdoor H312-371',\n",
       " 'AR617VW-LTE4EA | Huawei AR617VW-LTE4EA',\n",
       " 'CBK_ID916_SW_OT | Huawei Data Center Service Renewal\\xa0 (License, Subscription and Support)',\n",
       " '51071QSH | HUAWEI E5577Es Black',\n",
       " 'BA12834 | Huawei E5788 Hotspot',\n",
       " 'MMTN2ZM/A | EarPods with Lightning Connector',\n",
       " '51071SHQ | Huawei E6878-370 5G Hotspot - Black',\n",
       " '51071SMQ | Huawei Hotspot \\xa0E5783B',\n",
       " 'BA12818 | Huawei LTE Router B315',\n",
       " 'BA12816 | Huawei LTE-A Router B525',\n",
       " 'BA12830 | Huawei LTE-A Router B618',\n",
       " '51071SVE | Huawei MIFI 5G E6878 - Hotspot',\n",
       " 'MAYADEEN_ID1259_PS_24 | Installation and Training',\n",
       " 'KIA_ID980_PS1_OT | Installation, Onboard and PS Service. Manual PST Migration (Hybrid/PST)',\n",
       " 'ES0092 | IP Phone Cisco CP 3905',\n",
       " 'ES0093 | IP Phone Cisco CP 7821',\n",
       " 'MHDQ3AA/A | iPhone 11 NEW 256GB White',\n",
       " 'MGDH3AA/A | iPhone 12 Pro Max 512GB Silver',\n",
       " 'BS522M | Huawei Mate 10 Pro - Mocha',\n",
       " 'MNE23AA/A | iPhone 13 Pro 128GB Alpine Green',\n",
       " 'MLVD3AA/A | iPhone 13 Pro 128GB Sierra Blue',\n",
       " 'MNE53AA/A | iPhone 13 Pro 1TB Alpine Green',\n",
       " 'MM2C3ZM/A | iPhone 13 Silicone Case with MagSafe ? (PRODUCT)RED',\n",
       " 'MM273ZM/A | iPhone 13 Silicone Case with MagSafe ? Blue Jay',\n",
       " 'MR513AA/A | iPhone 14 512GB Yellow',\n",
       " 'MPT93ZM/A | iPhone 14 Plus Silicone Case with MagSafe - Elderberry',\n",
       " 'MPTE3ZM/A | iPhone 14 Pro Silicone Case with MagSafe - Midnight',\n",
       " 'MPTL3ZM/A | iPhone 14 Pro Silicone Case with MagSafe - Succulent',\n",
       " 'MPT03ZM/A | iPhone 14 Silicone Case with MagSafe - Elderberry',\n",
       " 'MPRY3ZM/A | iPhone 14 Silicone Case with MagSafe - Lilac',\n",
       " 'MPRU3ZM/A | iPhone 14 Silicone Case with MagSafe - Midnight',\n",
       " 'MPRV3ZM/A | iPhone 14 Silicone Case with MagSafe - Storm Blue',\n",
       " 'MPT13ZM/A | iPhone 14 Silicone Case with MagSafe - Succulent',\n",
       " 'MPT23ZM/A | iPhone 14 Silicone Case with MagSafe - Sunglow',\n",
       " 'MPPW3ZM/A | iPhone Leather Wallet with MagSafe - Ink',\n",
       " 'MLL73AA/A | iPhone\\xa013\\xa0Pro\\xa0Max 128GB Silver',\n",
       " 'AWTAD_ID1505_SW_36 | LIC-ENT-3YR Meraki',\n",
       " 'LGTV-OLED55C1PVB | LG OLED 4K TV 55 Inch C1 series',\n",
       " 'AWTAD_ID1506_SW_36 | LIC-ENT-3YR Meraki',\n",
       " 'AWTAD_ID1507_SW_36 | LIC-ENT-3YR Meraki',\n",
       " 'AWTAD_ID1508_SW_36 | LIC-ENT-3YR Meraki',\n",
       " 'AWTAD_ID1509_SW_36 | LIC-ENT-3YR Meraki',\n",
       " 'AWTAD_ID1503_SW_36 | LICESNE ENT-3YR Meraki',\n",
       " 'MOINFO_ID1523_SW_OT | Live Streaming Platform and VOD Services for Kuwait TV Channels',\n",
       " 'AB_ID1554_SW_OT | Meraki MR Enterprise License 3YR',\n",
       " 'MR44-HW | Meraki MR44 WiFi 6 Indoor AP',\n",
       " 'ALRUYA_ID1576_SW2_OT | Microsoft 365 A3 for faculty -and Microsoft 365 A3 for students use benefit',\n",
       " 'KIA_ID980_SW3_OT | Microsoft 365 Apps for business',\n",
       " 'NEXUS_ID1392_SW2_OT | Microsoft 365 Apps for business',\n",
       " 'UAGSCO_ID1449_SW1_OT | Microsoft 365 Business Basic',\n",
       " 'ALWAFIR_ID1388_SW2_OT | Microsoft 365 Business Premium',\n",
       " 'ALWAFIR_ID1388_SW4_OT | Microsoft 365 Business Standard',\n",
       " 'ALWAFIR_ID1388_SW3_OT | Microsoft Defender for Office 365 (Plan 1)',\n",
       " 'NEXUS_ID1392_SW3_OT | Microsoft Defender for Office 365 (Plan 1)',\n",
       " 'NEXUS_ID1392_SW1_OT | Microsoft Exchange Online (Plan 1)',\n",
       " 'UAGSCO_ID1449_SW2_OT | Microsoft Exchange Online Plan 2',\n",
       " 'FAHHAD_ID1425_SW1_OT | Microsoft Office 365 Business Basic',\n",
       " 'FAHHAD_ID1425_SW2_OT | Microsoft Office 365 Business Standard',\n",
       " 'THH-00014 | Microsoft Surface Laptop Go i5/8/128 /12\" PLT',\n",
       " 'ALRUYA_ID1576_SW1_OT | Microsoft Visio Plan1 for faculty',\n",
       " 'T40W3ZW | MixSwitch 3 gang , white color',\n",
       " 'ALWAFIR_ID1388_SW5_OT | Office 365 E3',\n",
       " '807183 | OllZ PowerMag Magsafe Wireless PowerBank & Apple Watch Charger 5200mAh- Black',\n",
       " 'KIA_ID980_HW2_OT | PowerEdge R750xs Server PowerEdge R750XS',\n",
       " 'EU_ID1240_SW_OT | Renewal of Meraki MR33 Access point license for 2 Years',\n",
       " 'SVN _ID1478_HW_OT | Samsung 55 Video Wall with Wall Mount and Installation',\n",
       " 'SVN _ID1477_HW_OT | Samsung 75 Professional UHD screen Digital Signage',\n",
       " 'SMA236EZKU | Samsung Galaxy A23 5G 64GB - Black',\n",
       " 'SMR510NZWA | Samsung Galaxy Buds2 Prowhite',\n",
       " 'SMS908EZGG | Samsung Galaxy S22 Ultra 5G 256GB Green',\n",
       " 'SMS908EZWG | Samsung Galaxy S22 Ultra 5G 256GB Phantom White',\n",
       " 'SMS918BZKW | Samsung Galaxy S23 Ultra Phantom Black 5G 1TB',\n",
       " 'SMT295NZKA | Samsung Galaxy Tab A8 (2019) 32GB (MicroSD up to 512GB)8\" WXGA TFT - Black',\n",
       " 'SMT295NZSA | Samsung Galaxy Tab A8 (2019) 32GB (MicroSD up to 512GB)8\" WXGA TFT - Silver',\n",
       " 'SMF936BZEG | Samsung Galaxy Z fold 4_512GB Beige',\n",
       " 'PWC_ID1566_MS_OT | Shuaiba S-Project O&M contract: -Ruckus P300(34) -Ruckus T610(30) -Ruckus ZD1200(2) (6Months):20April2023 to 19Oct2023',\n",
       " 'DECO-M9PL-1PK | TP Link Mesh Deco M9 Plus(1-pack)',\n",
       " 'TRAMPO _ID1364_SW_OT | UTP (IPS, Advanced Malware Protection, Appl Cntrl, URL, DNS & Video Filtering, Antispam Service, and FortiCare Premium',\n",
       " '99HASV003-00 | VIVE Flow HTC VR headset',\n",
       " 'KIA_ID980_SW2_OT | Windows Server 2022 - 1 Device CAL',\n",
       " 'KIA_ID980_SW1_OT | Windows Server 2022 Standard - 2 Core License Pack',\n",
       " 'T33G | Yealink T33G SIP Phone',\n",
       " 'VS20ZW | Zigbee Minihub without power adaptor',\n",
       " 'SW30 | Zigbee Water Leakage Pro',\n",
       " '99HARC008-B2 | Zain 5G Hub (5G Hub+Remote+SD+HDMI+Adapter) Bundle 2',\n",
       " 'UA65AU8000UXZN | Samsung 65\" AU8000 Crystal UHD 4K Smart TV',\n",
       " 'SMA326BZKW | Samsung Galaxy-A32 5G 128GB Rom 6GB Ram- 6.5\" Screen 5000 MAH - Black']"
      ]
     },
     "execution_count": 194,
     "metadata": {},
     "output_type": "execute_result"
    }
   ],
   "source": [
    "ssp_item_codes_range"
   ]
  },
  {
   "cell_type": "code",
   "execution_count": 171,
   "id": "7a1e200b",
   "metadata": {},
   "outputs": [
    {
     "name": "stdout",
     "output_type": "stream",
     "text": [
      "Page end detected for item MR513AA/A | iPhone 14 512GB Yellow Gait\n"
     ]
    }
   ],
   "source": [
    "test_links = google_obtain_item_links(['MR513AA/A | iPhone 14 512GB Yellow Gait'])"
   ]
  },
  {
   "cell_type": "code",
   "execution_count": 174,
   "id": "5f5cd4cc",
   "metadata": {},
   "outputs": [
    {
     "name": "stdout",
     "output_type": "stream",
     "text": [
      "https://best.com.kw/en/product/IPH-14-512GB-YLW/Apple%20iPhone%2014%20-%20512%20GB%252F6GB-%206.1%20Inch,%20Yellow%20-%20%28Dual%20Sim%29\n",
      "https://gait.com.kw/g_kw_en/buy-iphone-14-pro-max\n",
      "https://gait.com.kw/g_kw_en/iphone\n",
      "https://gait.com.kw/g_kw_en/buy-iphone-14-pro\n",
      "https://www.xcite.com/apple-iphone-14-5g-512gb-phone-yellow/p\n"
     ]
    }
   ],
   "source": [
    "condition_filter_links(test_links)"
   ]
  },
  {
   "cell_type": "code",
   "execution_count": 198,
   "id": "3846af31",
   "metadata": {},
   "outputs": [
    {
     "ename": "NoSuchElementException",
     "evalue": "Message: no such element: Unable to locate element: {\"method\":\"xpath\",\"selector\":\"./ancestor-or-self::form\"}\n  (Session info: chrome=114.0.5735.134)\n",
     "output_type": "error",
     "traceback": [
      "\u001b[1;31m---------------------------------------------------------------------------\u001b[0m",
      "\u001b[1;31mNoSuchElementException\u001b[0m                    Traceback (most recent call last)",
      "Cell \u001b[1;32mIn[198], line 12\u001b[0m\n\u001b[0;32m      9\u001b[0m search_bar \u001b[38;5;241m=\u001b[39m driver\u001b[38;5;241m.\u001b[39mfind_element_by_css_selector(\u001b[38;5;124m'\u001b[39m\u001b[38;5;124minput.amsearch-input\u001b[39m\u001b[38;5;124m'\u001b[39m)\n\u001b[0;32m     10\u001b[0m search_bar\u001b[38;5;241m.\u001b[39msend_keys(\u001b[38;5;124m'\u001b[39m\u001b[38;5;124mMPTL3ZM/A\u001b[39m\u001b[38;5;124m'\u001b[39m)\n\u001b[1;32m---> 12\u001b[0m \u001b[43msearch_bar\u001b[49m\u001b[38;5;241;43m.\u001b[39;49m\u001b[43msubmit\u001b[49m\u001b[43m(\u001b[49m\u001b[43m)\u001b[49m\n",
      "File \u001b[1;32m~\\anaconda3\\lib\\site-packages\\selenium\\webdriver\\remote\\webelement.py:85\u001b[0m, in \u001b[0;36mWebElement.submit\u001b[1;34m(self)\u001b[0m\n\u001b[0;32m     83\u001b[0m \u001b[38;5;124;03m\"\"\"Submits a form.\"\"\"\u001b[39;00m\n\u001b[0;32m     84\u001b[0m \u001b[38;5;28;01mif\u001b[39;00m \u001b[38;5;28mself\u001b[39m\u001b[38;5;241m.\u001b[39m_w3c:\n\u001b[1;32m---> 85\u001b[0m     form \u001b[38;5;241m=\u001b[39m \u001b[38;5;28;43mself\u001b[39;49m\u001b[38;5;241;43m.\u001b[39;49m\u001b[43mfind_element\u001b[49m\u001b[43m(\u001b[49m\u001b[43mBy\u001b[49m\u001b[38;5;241;43m.\u001b[39;49m\u001b[43mXPATH\u001b[49m\u001b[43m,\u001b[49m\u001b[43m \u001b[49m\u001b[38;5;124;43m\"\u001b[39;49m\u001b[38;5;124;43m./ancestor-or-self::form\u001b[39;49m\u001b[38;5;124;43m\"\u001b[39;49m\u001b[43m)\u001b[49m\n\u001b[0;32m     86\u001b[0m     \u001b[38;5;28mself\u001b[39m\u001b[38;5;241m.\u001b[39m_parent\u001b[38;5;241m.\u001b[39mexecute_script(\n\u001b[0;32m     87\u001b[0m         \u001b[38;5;124m\"\u001b[39m\u001b[38;5;124mvar e = arguments[0].ownerDocument.createEvent(\u001b[39m\u001b[38;5;124m'\u001b[39m\u001b[38;5;124mEvent\u001b[39m\u001b[38;5;124m'\u001b[39m\u001b[38;5;124m);\u001b[39m\u001b[38;5;124m\"\u001b[39m\n\u001b[0;32m     88\u001b[0m         \u001b[38;5;124m\"\u001b[39m\u001b[38;5;124me.initEvent(\u001b[39m\u001b[38;5;124m'\u001b[39m\u001b[38;5;124msubmit\u001b[39m\u001b[38;5;124m'\u001b[39m\u001b[38;5;124m, true, true);\u001b[39m\u001b[38;5;124m\"\u001b[39m\n\u001b[0;32m     89\u001b[0m         \u001b[38;5;124m\"\u001b[39m\u001b[38;5;124mif (arguments[0].dispatchEvent(e)) \u001b[39m\u001b[38;5;124m{\u001b[39m\u001b[38;5;124m arguments[0].submit() }\u001b[39m\u001b[38;5;124m\"\u001b[39m, form)\n\u001b[0;32m     90\u001b[0m \u001b[38;5;28;01melse\u001b[39;00m:\n",
      "File \u001b[1;32m~\\anaconda3\\lib\\site-packages\\selenium\\webdriver\\remote\\webelement.py:658\u001b[0m, in \u001b[0;36mWebElement.find_element\u001b[1;34m(self, by, value)\u001b[0m\n\u001b[0;32m    655\u001b[0m         by \u001b[38;5;241m=\u001b[39m By\u001b[38;5;241m.\u001b[39mCSS_SELECTOR\n\u001b[0;32m    656\u001b[0m         value \u001b[38;5;241m=\u001b[39m \u001b[38;5;124m'\u001b[39m\u001b[38;5;124m[name=\u001b[39m\u001b[38;5;124m\"\u001b[39m\u001b[38;5;132;01m%s\u001b[39;00m\u001b[38;5;124m\"\u001b[39m\u001b[38;5;124m]\u001b[39m\u001b[38;5;124m'\u001b[39m \u001b[38;5;241m%\u001b[39m value\n\u001b[1;32m--> 658\u001b[0m \u001b[38;5;28;01mreturn\u001b[39;00m \u001b[38;5;28;43mself\u001b[39;49m\u001b[38;5;241;43m.\u001b[39;49m\u001b[43m_execute\u001b[49m\u001b[43m(\u001b[49m\u001b[43mCommand\u001b[49m\u001b[38;5;241;43m.\u001b[39;49m\u001b[43mFIND_CHILD_ELEMENT\u001b[49m\u001b[43m,\u001b[49m\n\u001b[0;32m    659\u001b[0m \u001b[43m                     \u001b[49m\u001b[43m{\u001b[49m\u001b[38;5;124;43m\"\u001b[39;49m\u001b[38;5;124;43musing\u001b[39;49m\u001b[38;5;124;43m\"\u001b[39;49m\u001b[43m:\u001b[49m\u001b[43m \u001b[49m\u001b[43mby\u001b[49m\u001b[43m,\u001b[49m\u001b[43m \u001b[49m\u001b[38;5;124;43m\"\u001b[39;49m\u001b[38;5;124;43mvalue\u001b[39;49m\u001b[38;5;124;43m\"\u001b[39;49m\u001b[43m:\u001b[49m\u001b[43m \u001b[49m\u001b[43mvalue\u001b[49m\u001b[43m}\u001b[49m\u001b[43m)\u001b[49m[\u001b[38;5;124m'\u001b[39m\u001b[38;5;124mvalue\u001b[39m\u001b[38;5;124m'\u001b[39m]\n",
      "File \u001b[1;32m~\\anaconda3\\lib\\site-packages\\selenium\\webdriver\\remote\\webelement.py:633\u001b[0m, in \u001b[0;36mWebElement._execute\u001b[1;34m(self, command, params)\u001b[0m\n\u001b[0;32m    631\u001b[0m     params \u001b[38;5;241m=\u001b[39m {}\n\u001b[0;32m    632\u001b[0m params[\u001b[38;5;124m'\u001b[39m\u001b[38;5;124mid\u001b[39m\u001b[38;5;124m'\u001b[39m] \u001b[38;5;241m=\u001b[39m \u001b[38;5;28mself\u001b[39m\u001b[38;5;241m.\u001b[39m_id\n\u001b[1;32m--> 633\u001b[0m \u001b[38;5;28;01mreturn\u001b[39;00m \u001b[38;5;28;43mself\u001b[39;49m\u001b[38;5;241;43m.\u001b[39;49m\u001b[43m_parent\u001b[49m\u001b[38;5;241;43m.\u001b[39;49m\u001b[43mexecute\u001b[49m\u001b[43m(\u001b[49m\u001b[43mcommand\u001b[49m\u001b[43m,\u001b[49m\u001b[43m \u001b[49m\u001b[43mparams\u001b[49m\u001b[43m)\u001b[49m\n",
      "File \u001b[1;32m~\\anaconda3\\lib\\site-packages\\selenium\\webdriver\\remote\\webdriver.py:321\u001b[0m, in \u001b[0;36mWebDriver.execute\u001b[1;34m(self, driver_command, params)\u001b[0m\n\u001b[0;32m    319\u001b[0m response \u001b[38;5;241m=\u001b[39m \u001b[38;5;28mself\u001b[39m\u001b[38;5;241m.\u001b[39mcommand_executor\u001b[38;5;241m.\u001b[39mexecute(driver_command, params)\n\u001b[0;32m    320\u001b[0m \u001b[38;5;28;01mif\u001b[39;00m response:\n\u001b[1;32m--> 321\u001b[0m     \u001b[38;5;28;43mself\u001b[39;49m\u001b[38;5;241;43m.\u001b[39;49m\u001b[43merror_handler\u001b[49m\u001b[38;5;241;43m.\u001b[39;49m\u001b[43mcheck_response\u001b[49m\u001b[43m(\u001b[49m\u001b[43mresponse\u001b[49m\u001b[43m)\u001b[49m\n\u001b[0;32m    322\u001b[0m     response[\u001b[38;5;124m'\u001b[39m\u001b[38;5;124mvalue\u001b[39m\u001b[38;5;124m'\u001b[39m] \u001b[38;5;241m=\u001b[39m \u001b[38;5;28mself\u001b[39m\u001b[38;5;241m.\u001b[39m_unwrap_value(\n\u001b[0;32m    323\u001b[0m         response\u001b[38;5;241m.\u001b[39mget(\u001b[38;5;124m'\u001b[39m\u001b[38;5;124mvalue\u001b[39m\u001b[38;5;124m'\u001b[39m, \u001b[38;5;28;01mNone\u001b[39;00m))\n\u001b[0;32m    324\u001b[0m     \u001b[38;5;28;01mreturn\u001b[39;00m response\n",
      "File \u001b[1;32m~\\anaconda3\\lib\\site-packages\\selenium\\webdriver\\remote\\errorhandler.py:242\u001b[0m, in \u001b[0;36mErrorHandler.check_response\u001b[1;34m(self, response)\u001b[0m\n\u001b[0;32m    240\u001b[0m         alert_text \u001b[38;5;241m=\u001b[39m value[\u001b[38;5;124m'\u001b[39m\u001b[38;5;124malert\u001b[39m\u001b[38;5;124m'\u001b[39m]\u001b[38;5;241m.\u001b[39mget(\u001b[38;5;124m'\u001b[39m\u001b[38;5;124mtext\u001b[39m\u001b[38;5;124m'\u001b[39m)\n\u001b[0;32m    241\u001b[0m     \u001b[38;5;28;01mraise\u001b[39;00m exception_class(message, screen, stacktrace, alert_text)\n\u001b[1;32m--> 242\u001b[0m \u001b[38;5;28;01mraise\u001b[39;00m exception_class(message, screen, stacktrace)\n",
      "\u001b[1;31mNoSuchElementException\u001b[0m: Message: no such element: Unable to locate element: {\"method\":\"xpath\",\"selector\":\"./ancestor-or-self::form\"}\n  (Session info: chrome=114.0.5735.134)\n"
     ]
    }
   ],
   "source": [
    "# This is the start of the gait module where we search for item_codes and find matches\n",
    "\n",
    "opts = ChromeOptions()\n",
    "opts.add_argument(\"--start-maximized\")\n",
    "driver = webdriver.Chrome(driver_path, options=opts)\n",
    "driver.get('https://gait.com.kw/g_kw_en')\n",
    "\n",
    "search_tab = driver.find_element_by_class_name(\"search-toggle-icon\")\n",
    "search_tab.click()\n",
    "\n",
    "search_bar = driver.find_element_by_css_selector('input.amsearch-input')\n",
    "search_bar.send_keys('MPTL3ZM/A')\n",
    "\n",
    "search_bar.submit()"
   ]
  },
  {
   "cell_type": "code",
   "execution_count": null,
   "id": "4a35daf9",
   "metadata": {},
   "outputs": [],
   "source": []
  }
 ],
 "metadata": {
  "kernelspec": {
   "display_name": "Python 3 (ipykernel)",
   "language": "python",
   "name": "python3"
  },
  "language_info": {
   "codemirror_mode": {
    "name": "ipython",
    "version": 3
   },
   "file_extension": ".py",
   "mimetype": "text/x-python",
   "name": "python",
   "nbconvert_exporter": "python",
   "pygments_lexer": "ipython3",
   "version": "3.10.9"
  }
 },
 "nbformat": 4,
 "nbformat_minor": 5
}
